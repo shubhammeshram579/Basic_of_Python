{
 "cells": [
  {
   "attachments": {
    "image-2.png": {
     "image/png": "[encoded data removed]"
    }
   },
   "cell_type": "markdown",
   "id": "e480ab37",
   "metadata": {},
   "source": [
    "![image-2.png](attachment:image-2.png)\n",
    "Pandas is a popular open-source data manipulation and analysis library for Python. It provides powerful data structures such as DataFrame and Series for efficient data handling, cleaning, transformation, and analysis. Pandas is widely used in data science, machine learning, and data analysis tasks due to its flexibility and ease of use. It offers a wide range of data manipulation functionalities, including data indexing, filtering, sorting, merging, reshaping, and aggregation. Pandas also provides powerful data visualization capabilities through integration with other libraries such as Matplotlib and Seaborn. With its rich set of functions and methods, Pandas simplifies the process of working with structured and tabular data in Python, making it a popular choice for data analysis tasks."
   ]
  },
  {
   "cell_type": "markdown",
   "id": "22755b40",
   "metadata": {},
   "source": [
    "# Basic of pandas\n",
    "Pandas: Python library for data manipulation, analysis, and visualization; provides DataFrame and Series data structures for handling tabular data efficiently."
   ]
  },
  {
   "cell_type": "code",
   "execution_count": 188,
   "id": "4ef00e1f",
   "metadata": {},
   "outputs": [],
   "source": [
    "## Importing nasseries libraries\n",
    "import pandas as pd\n",
    "import numpy as np\n",
    "\n",
    "import warnings \n",
    "\n",
    "warnings.filterwarnings(\"ignore\")"
   ]
  },
  {
   "cell_type": "markdown",
   "id": "10e218bb",
   "metadata": {},
   "source": [
    "### Create dictionary\n",
    "\n",
    "Python dictionary: key-value pairs, mutable, unordered, efficient, hash table, iterable, lookup, insertion, deletion, curly braces."
   ]
  },
  {
   "cell_type": "code",
   "execution_count": 2,
   "id": "e87c19ed",
   "metadata": {},
   "outputs": [
    {
     "data": {
      "text/plain": [
       "{'Name': ['a', 'b', 'c', 'd'],\n",
       " 'Salary': [1200, 1500, 1600, 1440],\n",
       " 'Digination': ['DS', 'DA', 'DE', 'HR']}"
      ]
     },
     "execution_count": 2,
     "metadata": {},
     "output_type": "execute_result"
    }
   ],
   "source": [
    "data = {\"Name\":[\"a\",\"b\",\"c\",\"d\"],\n",
    "       \"Salary\":[1200,1500,1600,1440],\n",
    "       \"Digination\":[\"DS\",\"DA\",\"DE\",\"HR\"]}\n",
    "data"
   ]
  },
  {
   "cell_type": "markdown",
   "id": "0dcbd30b",
   "metadata": {},
   "source": [
    "### Convert dict to datadrame\n",
    "\n",
    "Pandas DataFrame: Tabular data, rows/columns, flexible, powerful, data manipulation, indexing, analysis, Python library, DataFrame object, data structure."
   ]
  },
  {
   "cell_type": "code",
   "execution_count": 3,
   "id": "ea0a090b",
   "metadata": {},
   "outputs": [
    {
     "data": {
      "text/html": [
       "<div>\n",
       "<style scoped>\n",
       "    .dataframe tbody tr th:only-of-type {\n",
       "        vertical-align: middle;\n",
       "    }\n",
       "\n",
       "    .dataframe tbody tr th {\n",
       "        vertical-align: top;\n",
       "    }\n",
       "\n",
       "    .dataframe thead th {\n",
       "        text-align: right;\n",
       "    }\n",
       "</style>\n",
       "<table border=\"1\" class=\"dataframe\">\n",
       "  <thead>\n",
       "    <tr style=\"text-align: right;\">\n",
       "      <th></th>\n",
       "      <th>Name</th>\n",
       "      <th>Salary</th>\n",
       "      <th>Digination</th>\n",
       "    </tr>\n",
       "  </thead>\n",
       "  <tbody>\n",
       "    <tr>\n",
       "      <th>0</th>\n",
       "      <td>a</td>\n",
       "      <td>1200</td>\n",
       "      <td>DS</td>\n",
       "    </tr>\n",
       "    <tr>\n",
       "      <th>1</th>\n",
       "      <td>b</td>\n",
       "      <td>1500</td>\n",
       "      <td>DA</td>\n",
       "    </tr>\n",
       "    <tr>\n",
       "      <th>2</th>\n",
       "      <td>c</td>\n",
       "      <td>1600</td>\n",
       "      <td>DE</td>\n",
       "    </tr>\n",
       "    <tr>\n",
       "      <th>3</th>\n",
       "      <td>d</td>\n",
       "      <td>1440</td>\n",
       "      <td>HR</td>\n",
       "    </tr>\n",
       "  </tbody>\n",
       "</table>\n",
       "</div>"
      ],
      "text/plain": [
       "  Name  Salary Digination\n",
       "0    a    1200         DS\n",
       "1    b    1500         DA\n",
       "2    c    1600         DE\n",
       "3    d    1440         HR"
      ]
     },
     "execution_count": 3,
     "metadata": {},
     "output_type": "execute_result"
    }
   ],
   "source": [
    "df = pd.DataFrame(data)\n",
    "df"
   ]
  },
  {
   "cell_type": "code",
   "execution_count": 4,
   "id": "a43fa5b9",
   "metadata": {},
   "outputs": [
    {
     "data": {
      "text/html": [
       "<div>\n",
       "<style scoped>\n",
       "    .dataframe tbody tr th:only-of-type {\n",
       "        vertical-align: middle;\n",
       "    }\n",
       "\n",
       "    .dataframe tbody tr th {\n",
       "        vertical-align: top;\n",
       "    }\n",
       "\n",
       "    .dataframe thead th {\n",
       "        text-align: right;\n",
       "    }\n",
       "</style>\n",
       "<table border=\"1\" class=\"dataframe\">\n",
       "  <thead>\n",
       "    <tr style=\"text-align: right;\">\n",
       "      <th></th>\n",
       "      <th>Name</th>\n",
       "      <th>Salary</th>\n",
       "      <th>Digination</th>\n",
       "    </tr>\n",
       "  </thead>\n",
       "  <tbody>\n",
       "    <tr>\n",
       "      <th>0</th>\n",
       "      <td>a</td>\n",
       "      <td>1200</td>\n",
       "      <td>DS</td>\n",
       "    </tr>\n",
       "    <tr>\n",
       "      <th>1</th>\n",
       "      <td>b</td>\n",
       "      <td>1500</td>\n",
       "      <td>DA</td>\n",
       "    </tr>\n",
       "  </tbody>\n",
       "</table>\n",
       "</div>"
      ],
      "text/plain": [
       "  Name  Salary Digination\n",
       "0    a    1200         DS\n",
       "1    b    1500         DA"
      ]
     },
     "execution_count": 4,
     "metadata": {},
     "output_type": "execute_result"
    }
   ],
   "source": [
    "df.head(2) # pandas head(): DataFrame preview, top rows, quick data inspection, initial view, summary."
   ]
  },
  {
   "cell_type": "code",
   "execution_count": 5,
   "id": "a2eddca6",
   "metadata": {},
   "outputs": [
    {
     "data": {
      "text/html": [
       "<div>\n",
       "<style scoped>\n",
       "    .dataframe tbody tr th:only-of-type {\n",
       "        vertical-align: middle;\n",
       "    }\n",
       "\n",
       "    .dataframe tbody tr th {\n",
       "        vertical-align: top;\n",
       "    }\n",
       "\n",
       "    .dataframe thead th {\n",
       "        text-align: right;\n",
       "    }\n",
       "</style>\n",
       "<table border=\"1\" class=\"dataframe\">\n",
       "  <thead>\n",
       "    <tr style=\"text-align: right;\">\n",
       "      <th></th>\n",
       "      <th>Name</th>\n",
       "      <th>Salary</th>\n",
       "      <th>Digination</th>\n",
       "    </tr>\n",
       "  </thead>\n",
       "  <tbody>\n",
       "    <tr>\n",
       "      <th>2</th>\n",
       "      <td>c</td>\n",
       "      <td>1600</td>\n",
       "      <td>DE</td>\n",
       "    </tr>\n",
       "    <tr>\n",
       "      <th>3</th>\n",
       "      <td>d</td>\n",
       "      <td>1440</td>\n",
       "      <td>HR</td>\n",
       "    </tr>\n",
       "  </tbody>\n",
       "</table>\n",
       "</div>"
      ],
      "text/plain": [
       "  Name  Salary Digination\n",
       "2    c    1600         DE\n",
       "3    d    1440         HR"
      ]
     },
     "execution_count": 5,
     "metadata": {},
     "output_type": "execute_result"
    }
   ],
   "source": [
    "df.tail(2) #pandas tail(): DataFrame preview, bottom rows, quick data inspection, summary view, last records."
   ]
  },
  {
   "cell_type": "code",
   "execution_count": 6,
   "id": "eee65fea",
   "metadata": {},
   "outputs": [
    {
     "data": {
      "text/plain": [
       "(4, 3)"
      ]
     },
     "execution_count": 6,
     "metadata": {},
     "output_type": "execute_result"
    }
   ],
   "source": [
    "# pandas shape: DataFrame size, rows and columns, data dimensions, shape attribute, tuple.\n",
    "df.shape"
   ]
  },
  {
   "cell_type": "code",
   "execution_count": 7,
   "id": "0960ae19",
   "metadata": {},
   "outputs": [
    {
     "data": {
      "text/plain": [
       "pandas.core.frame.DataFrame"
      ]
     },
     "execution_count": 7,
     "metadata": {},
     "output_type": "execute_result"
    }
   ],
   "source": [
    "type(df) # pandas type(): DataFrame data type, data structure, Python data types, dtype, data representation."
   ]
  },
  {
   "cell_type": "markdown",
   "id": "399af73f",
   "metadata": {},
   "source": [
    "### Select statement\n",
    "\n",
    "pandas select: DataFrame column selection, data extraction, column filtering, subsetting data, indexing."
   ]
  },
  {
   "cell_type": "code",
   "execution_count": 8,
   "id": "996880ed",
   "metadata": {},
   "outputs": [
    {
     "data": {
      "text/plain": [
       "0    a\n",
       "1    b\n",
       "2    c\n",
       "3    d\n",
       "Name: Name, dtype: object"
      ]
     },
     "execution_count": 8,
     "metadata": {},
     "output_type": "execute_result"
    }
   ],
   "source": [
    "# Select a single column\n",
    "df[\"Name\"]"
   ]
  },
  {
   "cell_type": "code",
   "execution_count": 9,
   "id": "02642296",
   "metadata": {},
   "outputs": [
    {
     "data": {
      "text/html": [
       "<div>\n",
       "<style scoped>\n",
       "    .dataframe tbody tr th:only-of-type {\n",
       "        vertical-align: middle;\n",
       "    }\n",
       "\n",
       "    .dataframe tbody tr th {\n",
       "        vertical-align: top;\n",
       "    }\n",
       "\n",
       "    .dataframe thead th {\n",
       "        text-align: right;\n",
       "    }\n",
       "</style>\n",
       "<table border=\"1\" class=\"dataframe\">\n",
       "  <thead>\n",
       "    <tr style=\"text-align: right;\">\n",
       "      <th></th>\n",
       "      <th>Name</th>\n",
       "      <th>Salary</th>\n",
       "    </tr>\n",
       "  </thead>\n",
       "  <tbody>\n",
       "    <tr>\n",
       "      <th>0</th>\n",
       "      <td>a</td>\n",
       "      <td>1200</td>\n",
       "    </tr>\n",
       "    <tr>\n",
       "      <th>1</th>\n",
       "      <td>b</td>\n",
       "      <td>1500</td>\n",
       "    </tr>\n",
       "    <tr>\n",
       "      <th>2</th>\n",
       "      <td>c</td>\n",
       "      <td>1600</td>\n",
       "    </tr>\n",
       "    <tr>\n",
       "      <th>3</th>\n",
       "      <td>d</td>\n",
       "      <td>1440</td>\n",
       "    </tr>\n",
       "  </tbody>\n",
       "</table>\n",
       "</div>"
      ],
      "text/plain": [
       "  Name  Salary\n",
       "0    a    1200\n",
       "1    b    1500\n",
       "2    c    1600\n",
       "3    d    1440"
      ]
     },
     "execution_count": 9,
     "metadata": {},
     "output_type": "execute_result"
    }
   ],
   "source": [
    "## select maltiple columns\n",
    "df[[\"Name\",\"Salary\"]]"
   ]
  },
  {
   "cell_type": "code",
   "execution_count": 10,
   "id": "dd5ca198",
   "metadata": {},
   "outputs": [
    {
     "data": {
      "text/html": [
       "<div>\n",
       "<style scoped>\n",
       "    .dataframe tbody tr th:only-of-type {\n",
       "        vertical-align: middle;\n",
       "    }\n",
       "\n",
       "    .dataframe tbody tr th {\n",
       "        vertical-align: top;\n",
       "    }\n",
       "\n",
       "    .dataframe thead th {\n",
       "        text-align: right;\n",
       "    }\n",
       "</style>\n",
       "<table border=\"1\" class=\"dataframe\">\n",
       "  <thead>\n",
       "    <tr style=\"text-align: right;\">\n",
       "      <th></th>\n",
       "      <th>Name</th>\n",
       "      <th>Salary</th>\n",
       "      <th>Digination</th>\n",
       "    </tr>\n",
       "  </thead>\n",
       "  <tbody>\n",
       "    <tr>\n",
       "      <th>1</th>\n",
       "      <td>b</td>\n",
       "      <td>1500</td>\n",
       "      <td>DA</td>\n",
       "    </tr>\n",
       "  </tbody>\n",
       "</table>\n",
       "</div>"
      ],
      "text/plain": [
       "  Name  Salary Digination\n",
       "1    b    1500         DA"
      ]
     },
     "execution_count": 10,
     "metadata": {},
     "output_type": "execute_result"
    }
   ],
   "source": [
    "## select a single row \n",
    "df[df[\"Name\"]==\"b\"]"
   ]
  },
  {
   "cell_type": "code",
   "execution_count": 11,
   "id": "ba40d457",
   "metadata": {},
   "outputs": [
    {
     "data": {
      "text/html": [
       "<div>\n",
       "<style scoped>\n",
       "    .dataframe tbody tr th:only-of-type {\n",
       "        vertical-align: middle;\n",
       "    }\n",
       "\n",
       "    .dataframe tbody tr th {\n",
       "        vertical-align: top;\n",
       "    }\n",
       "\n",
       "    .dataframe thead th {\n",
       "        text-align: right;\n",
       "    }\n",
       "</style>\n",
       "<table border=\"1\" class=\"dataframe\">\n",
       "  <thead>\n",
       "    <tr style=\"text-align: right;\">\n",
       "      <th></th>\n",
       "      <th>Name</th>\n",
       "      <th>Salary</th>\n",
       "      <th>Digination</th>\n",
       "    </tr>\n",
       "  </thead>\n",
       "  <tbody>\n",
       "    <tr>\n",
       "      <th>2</th>\n",
       "      <td>c</td>\n",
       "      <td>1600</td>\n",
       "      <td>DE</td>\n",
       "    </tr>\n",
       "  </tbody>\n",
       "</table>\n",
       "</div>"
      ],
      "text/plain": [
       "  Name  Salary Digination\n",
       "2    c    1600         DE"
      ]
     },
     "execution_count": 11,
     "metadata": {},
     "output_type": "execute_result"
    }
   ],
   "source": [
    "## how mani persons salary is > 1500\n",
    "df[df[\"Salary\"]>1500]"
   ]
  },
  {
   "cell_type": "code",
   "execution_count": 12,
   "id": "24a698fb",
   "metadata": {},
   "outputs": [
    {
     "data": {
      "text/html": [
       "<div>\n",
       "<style scoped>\n",
       "    .dataframe tbody tr th:only-of-type {\n",
       "        vertical-align: middle;\n",
       "    }\n",
       "\n",
       "    .dataframe tbody tr th {\n",
       "        vertical-align: top;\n",
       "    }\n",
       "\n",
       "    .dataframe thead th {\n",
       "        text-align: right;\n",
       "    }\n",
       "</style>\n",
       "<table border=\"1\" class=\"dataframe\">\n",
       "  <thead>\n",
       "    <tr style=\"text-align: right;\">\n",
       "      <th></th>\n",
       "      <th>Name</th>\n",
       "      <th>Salary</th>\n",
       "      <th>Digination</th>\n",
       "    </tr>\n",
       "  </thead>\n",
       "  <tbody>\n",
       "    <tr>\n",
       "      <th>0</th>\n",
       "      <td>a</td>\n",
       "      <td>1200</td>\n",
       "      <td>DS</td>\n",
       "    </tr>\n",
       "    <tr>\n",
       "      <th>3</th>\n",
       "      <td>d</td>\n",
       "      <td>1440</td>\n",
       "      <td>HR</td>\n",
       "    </tr>\n",
       "  </tbody>\n",
       "</table>\n",
       "</div>"
      ],
      "text/plain": [
       "  Name  Salary Digination\n",
       "0    a    1200         DS\n",
       "3    d    1440         HR"
      ]
     },
     "execution_count": 12,
     "metadata": {},
     "output_type": "execute_result"
    }
   ],
   "source": [
    "# how mani persons salary is > 1500\n",
    "\n",
    "df[df[\"Salary\"]<1500]"
   ]
  },
  {
   "cell_type": "code",
   "execution_count": 13,
   "id": "5b37e311",
   "metadata": {},
   "outputs": [
    {
     "data": {
      "text/html": [
       "<div>\n",
       "<style scoped>\n",
       "    .dataframe tbody tr th:only-of-type {\n",
       "        vertical-align: middle;\n",
       "    }\n",
       "\n",
       "    .dataframe tbody tr th {\n",
       "        vertical-align: top;\n",
       "    }\n",
       "\n",
       "    .dataframe thead th {\n",
       "        text-align: right;\n",
       "    }\n",
       "</style>\n",
       "<table border=\"1\" class=\"dataframe\">\n",
       "  <thead>\n",
       "    <tr style=\"text-align: right;\">\n",
       "      <th></th>\n",
       "      <th>Name</th>\n",
       "      <th>Salary</th>\n",
       "      <th>Digination</th>\n",
       "    </tr>\n",
       "  </thead>\n",
       "  <tbody>\n",
       "    <tr>\n",
       "      <th>1</th>\n",
       "      <td>b</td>\n",
       "      <td>1500</td>\n",
       "      <td>DA</td>\n",
       "    </tr>\n",
       "    <tr>\n",
       "      <th>2</th>\n",
       "      <td>c</td>\n",
       "      <td>1600</td>\n",
       "      <td>DE</td>\n",
       "    </tr>\n",
       "  </tbody>\n",
       "</table>\n",
       "</div>"
      ],
      "text/plain": [
       "  Name  Salary Digination\n",
       "1    b    1500         DA\n",
       "2    c    1600         DE"
      ]
     },
     "execution_count": 13,
     "metadata": {},
     "output_type": "execute_result"
    }
   ],
   "source": [
    "## how mani persons salary is > 1500\n",
    "df[df[\"Salary\"]>=1500]"
   ]
  },
  {
   "cell_type": "code",
   "execution_count": 14,
   "id": "393d92bd",
   "metadata": {},
   "outputs": [
    {
     "data": {
      "text/html": [
       "<div>\n",
       "<style scoped>\n",
       "    .dataframe tbody tr th:only-of-type {\n",
       "        vertical-align: middle;\n",
       "    }\n",
       "\n",
       "    .dataframe tbody tr th {\n",
       "        vertical-align: top;\n",
       "    }\n",
       "\n",
       "    .dataframe thead th {\n",
       "        text-align: right;\n",
       "    }\n",
       "</style>\n",
       "<table border=\"1\" class=\"dataframe\">\n",
       "  <thead>\n",
       "    <tr style=\"text-align: right;\">\n",
       "      <th></th>\n",
       "      <th>Name</th>\n",
       "      <th>Salary</th>\n",
       "      <th>Digination</th>\n",
       "    </tr>\n",
       "  </thead>\n",
       "  <tbody>\n",
       "    <tr>\n",
       "      <th>1</th>\n",
       "      <td>b</td>\n",
       "      <td>1500</td>\n",
       "      <td>DA</td>\n",
       "    </tr>\n",
       "    <tr>\n",
       "      <th>2</th>\n",
       "      <td>c</td>\n",
       "      <td>1600</td>\n",
       "      <td>DE</td>\n",
       "    </tr>\n",
       "    <tr>\n",
       "      <th>3</th>\n",
       "      <td>d</td>\n",
       "      <td>1440</td>\n",
       "      <td>HR</td>\n",
       "    </tr>\n",
       "  </tbody>\n",
       "</table>\n",
       "</div>"
      ],
      "text/plain": [
       "  Name  Salary Digination\n",
       "1    b    1500         DA\n",
       "2    c    1600         DE\n",
       "3    d    1440         HR"
      ]
     },
     "execution_count": 14,
     "metadata": {},
     "output_type": "execute_result"
    }
   ],
   "source": [
    "# particalar select row data not showing using this commant !=\n",
    "df[df[\"Digination\"]!=\"DS\"]"
   ]
  },
  {
   "cell_type": "markdown",
   "id": "09a5d999",
   "metadata": {},
   "source": [
    "# pandas loc function used some operators:  \n",
    "1. Label-based data selection, DataFrame filtering, row/column indexing, data retrieval, locatio\n",
    "\n",
    "2. Pandas: Supports +, -, *, /, >, <, ==, !=, &, |, ~ operators for data manipulation."
   ]
  },
  {
   "cell_type": "code",
   "execution_count": 15,
   "id": "7ee2efbc",
   "metadata": {},
   "outputs": [
    {
     "data": {
      "text/html": [
       "<div>\n",
       "<style scoped>\n",
       "    .dataframe tbody tr th:only-of-type {\n",
       "        vertical-align: middle;\n",
       "    }\n",
       "\n",
       "    .dataframe tbody tr th {\n",
       "        vertical-align: top;\n",
       "    }\n",
       "\n",
       "    .dataframe thead th {\n",
       "        text-align: right;\n",
       "    }\n",
       "</style>\n",
       "<table border=\"1\" class=\"dataframe\">\n",
       "  <thead>\n",
       "    <tr style=\"text-align: right;\">\n",
       "      <th></th>\n",
       "      <th>Name</th>\n",
       "      <th>Salary</th>\n",
       "      <th>Digination</th>\n",
       "    </tr>\n",
       "  </thead>\n",
       "  <tbody>\n",
       "    <tr>\n",
       "      <th>0</th>\n",
       "      <td>a</td>\n",
       "      <td>1200</td>\n",
       "      <td>DS</td>\n",
       "    </tr>\n",
       "    <tr>\n",
       "      <th>1</th>\n",
       "      <td>b</td>\n",
       "      <td>1500</td>\n",
       "      <td>DA</td>\n",
       "    </tr>\n",
       "  </tbody>\n",
       "</table>\n",
       "</div>"
      ],
      "text/plain": [
       "  Name  Salary Digination\n",
       "0    a    1200         DS\n",
       "1    b    1500         DA"
      ]
     },
     "execution_count": 15,
     "metadata": {},
     "output_type": "execute_result"
    }
   ],
   "source": [
    "df.head(2)"
   ]
  },
  {
   "cell_type": "code",
   "execution_count": 16,
   "id": "698d05d5",
   "metadata": {},
   "outputs": [
    {
     "data": {
      "text/html": [
       "<div>\n",
       "<style scoped>\n",
       "    .dataframe tbody tr th:only-of-type {\n",
       "        vertical-align: middle;\n",
       "    }\n",
       "\n",
       "    .dataframe tbody tr th {\n",
       "        vertical-align: top;\n",
       "    }\n",
       "\n",
       "    .dataframe thead th {\n",
       "        text-align: right;\n",
       "    }\n",
       "</style>\n",
       "<table border=\"1\" class=\"dataframe\">\n",
       "  <thead>\n",
       "    <tr style=\"text-align: right;\">\n",
       "      <th></th>\n",
       "      <th>Name</th>\n",
       "      <th>Salary</th>\n",
       "      <th>Digination</th>\n",
       "    </tr>\n",
       "  </thead>\n",
       "  <tbody>\n",
       "    <tr>\n",
       "      <th>0</th>\n",
       "      <td>a</td>\n",
       "      <td>1200</td>\n",
       "      <td>DS</td>\n",
       "    </tr>\n",
       "  </tbody>\n",
       "</table>\n",
       "</div>"
      ],
      "text/plain": [
       "  Name  Salary Digination\n",
       "0    a    1200         DS"
      ]
     },
     "execution_count": 16,
     "metadata": {},
     "output_type": "execute_result"
    }
   ],
   "source": [
    "df.loc[df[\"Name\"]==\"a\"] # find the a person row"
   ]
  },
  {
   "cell_type": "code",
   "execution_count": 17,
   "id": "a7ffa536",
   "metadata": {},
   "outputs": [
    {
     "data": {
      "text/plain": [
       "0    1200\n",
       "Name: Salary, dtype: int64"
      ]
     },
     "execution_count": 17,
     "metadata": {},
     "output_type": "execute_result"
    }
   ],
   "source": [
    "df.loc[df[\"Salary\"]==1200,\"Salary\"] ## select the particaler columns values"
   ]
  },
  {
   "cell_type": "code",
   "execution_count": 18,
   "id": "4fcb40fd",
   "metadata": {},
   "outputs": [
    {
     "data": {
      "text/plain": [
       "1200"
      ]
     },
     "execution_count": 18,
     "metadata": {},
     "output_type": "execute_result"
    }
   ],
   "source": [
    "df[\"Salary\"][0] # same option find the same result "
   ]
  },
  {
   "cell_type": "code",
   "execution_count": 19,
   "id": "5f723e9f",
   "metadata": {},
   "outputs": [
    {
     "data": {
      "text/html": [
       "<div>\n",
       "<style scoped>\n",
       "    .dataframe tbody tr th:only-of-type {\n",
       "        vertical-align: middle;\n",
       "    }\n",
       "\n",
       "    .dataframe tbody tr th {\n",
       "        vertical-align: top;\n",
       "    }\n",
       "\n",
       "    .dataframe thead th {\n",
       "        text-align: right;\n",
       "    }\n",
       "</style>\n",
       "<table border=\"1\" class=\"dataframe\">\n",
       "  <thead>\n",
       "    <tr style=\"text-align: right;\">\n",
       "      <th></th>\n",
       "      <th>Name</th>\n",
       "      <th>Salary</th>\n",
       "      <th>Digination</th>\n",
       "    </tr>\n",
       "  </thead>\n",
       "  <tbody>\n",
       "    <tr>\n",
       "      <th>2</th>\n",
       "      <td>c</td>\n",
       "      <td>1600</td>\n",
       "      <td>DE</td>\n",
       "    </tr>\n",
       "  </tbody>\n",
       "</table>\n",
       "</div>"
      ],
      "text/plain": [
       "  Name  Salary Digination\n",
       "2    c    1600         DE"
      ]
     },
     "execution_count": 19,
     "metadata": {},
     "output_type": "execute_result"
    }
   ],
   "source": [
    "df.loc[df[\"Salary\"]>1500] ## find the salary columns grether then 1500 salary"
   ]
  },
  {
   "cell_type": "code",
   "execution_count": 20,
   "id": "d0b6dfb8",
   "metadata": {},
   "outputs": [
    {
     "data": {
      "text/plain": [
       "2    1600\n",
       "Name: Salary, dtype: int64"
      ]
     },
     "execution_count": 20,
     "metadata": {},
     "output_type": "execute_result"
    }
   ],
   "source": [
    "df.loc[df[\"Salary\"]>1500,\"Salary\"] ## find the salary columns grether then 1500 and show only salary values"
   ]
  },
  {
   "cell_type": "code",
   "execution_count": 21,
   "id": "cca66faf",
   "metadata": {},
   "outputs": [
    {
     "data": {
      "text/html": [
       "<div>\n",
       "<style scoped>\n",
       "    .dataframe tbody tr th:only-of-type {\n",
       "        vertical-align: middle;\n",
       "    }\n",
       "\n",
       "    .dataframe tbody tr th {\n",
       "        vertical-align: top;\n",
       "    }\n",
       "\n",
       "    .dataframe thead th {\n",
       "        text-align: right;\n",
       "    }\n",
       "</style>\n",
       "<table border=\"1\" class=\"dataframe\">\n",
       "  <thead>\n",
       "    <tr style=\"text-align: right;\">\n",
       "      <th></th>\n",
       "      <th>Name</th>\n",
       "      <th>Salary</th>\n",
       "      <th>Digination</th>\n",
       "    </tr>\n",
       "  </thead>\n",
       "  <tbody>\n",
       "    <tr>\n",
       "      <th>1</th>\n",
       "      <td>b</td>\n",
       "      <td>1500</td>\n",
       "      <td>DA</td>\n",
       "    </tr>\n",
       "    <tr>\n",
       "      <th>2</th>\n",
       "      <td>c</td>\n",
       "      <td>1600</td>\n",
       "      <td>DE</td>\n",
       "    </tr>\n",
       "    <tr>\n",
       "      <th>3</th>\n",
       "      <td>d</td>\n",
       "      <td>1440</td>\n",
       "      <td>HR</td>\n",
       "    </tr>\n",
       "  </tbody>\n",
       "</table>\n",
       "</div>"
      ],
      "text/plain": [
       "  Name  Salary Digination\n",
       "1    b    1500         DA\n",
       "2    c    1600         DE\n",
       "3    d    1440         HR"
      ]
     },
     "execution_count": 21,
     "metadata": {},
     "output_type": "execute_result"
    }
   ],
   "source": [
    "#\"!=\" in pandas: Comparison operator for not equal to in DataFrame filtering, data selection, and conditional operations.\n",
    "df.loc[df[\"Name\"]!=\"a\"] "
   ]
  },
  {
   "cell_type": "markdown",
   "id": "9d88d1ad",
   "metadata": {},
   "source": [
    "### iloc function\n",
    "pandas iloc: Integer-based data selection, DataFrame indexing, row/column filtering, data retrieval, position."
   ]
  },
  {
   "cell_type": "code",
   "execution_count": 22,
   "id": "225fca28",
   "metadata": {},
   "outputs": [
    {
     "data": {
      "text/html": [
       "<div>\n",
       "<style scoped>\n",
       "    .dataframe tbody tr th:only-of-type {\n",
       "        vertical-align: middle;\n",
       "    }\n",
       "\n",
       "    .dataframe tbody tr th {\n",
       "        vertical-align: top;\n",
       "    }\n",
       "\n",
       "    .dataframe thead th {\n",
       "        text-align: right;\n",
       "    }\n",
       "</style>\n",
       "<table border=\"1\" class=\"dataframe\">\n",
       "  <thead>\n",
       "    <tr style=\"text-align: right;\">\n",
       "      <th></th>\n",
       "      <th>Name</th>\n",
       "      <th>Salary</th>\n",
       "      <th>Digination</th>\n",
       "    </tr>\n",
       "  </thead>\n",
       "  <tbody>\n",
       "    <tr>\n",
       "      <th>0</th>\n",
       "      <td>a</td>\n",
       "      <td>1200</td>\n",
       "      <td>DS</td>\n",
       "    </tr>\n",
       "  </tbody>\n",
       "</table>\n",
       "</div>"
      ],
      "text/plain": [
       "  Name  Salary Digination\n",
       "0    a    1200         DS"
      ]
     },
     "execution_count": 22,
     "metadata": {},
     "output_type": "execute_result"
    }
   ],
   "source": [
    "df.iloc[:1] ## select the first index using iloc funtion"
   ]
  },
  {
   "cell_type": "code",
   "execution_count": 23,
   "id": "2e001d0c",
   "metadata": {},
   "outputs": [
    {
     "data": {
      "text/html": [
       "<div>\n",
       "<style scoped>\n",
       "    .dataframe tbody tr th:only-of-type {\n",
       "        vertical-align: middle;\n",
       "    }\n",
       "\n",
       "    .dataframe tbody tr th {\n",
       "        vertical-align: top;\n",
       "    }\n",
       "\n",
       "    .dataframe thead th {\n",
       "        text-align: right;\n",
       "    }\n",
       "</style>\n",
       "<table border=\"1\" class=\"dataframe\">\n",
       "  <thead>\n",
       "    <tr style=\"text-align: right;\">\n",
       "      <th></th>\n",
       "      <th>Name</th>\n",
       "      <th>Salary</th>\n",
       "      <th>Digination</th>\n",
       "    </tr>\n",
       "  </thead>\n",
       "  <tbody>\n",
       "    <tr>\n",
       "      <th>3</th>\n",
       "      <td>d</td>\n",
       "      <td>1440</td>\n",
       "      <td>HR</td>\n",
       "    </tr>\n",
       "  </tbody>\n",
       "</table>\n",
       "</div>"
      ],
      "text/plain": [
       "  Name  Salary Digination\n",
       "3    d    1440         HR"
      ]
     },
     "execution_count": 23,
     "metadata": {},
     "output_type": "execute_result"
    }
   ],
   "source": [
    "df.iloc[3:] ## select the 3 index using iloc funtion"
   ]
  },
  {
   "cell_type": "code",
   "execution_count": 24,
   "id": "ccdd20c0",
   "metadata": {},
   "outputs": [
    {
     "data": {
      "text/html": [
       "<div>\n",
       "<style scoped>\n",
       "    .dataframe tbody tr th:only-of-type {\n",
       "        vertical-align: middle;\n",
       "    }\n",
       "\n",
       "    .dataframe tbody tr th {\n",
       "        vertical-align: top;\n",
       "    }\n",
       "\n",
       "    .dataframe thead th {\n",
       "        text-align: right;\n",
       "    }\n",
       "</style>\n",
       "<table border=\"1\" class=\"dataframe\">\n",
       "  <thead>\n",
       "    <tr style=\"text-align: right;\">\n",
       "      <th></th>\n",
       "      <th>Name</th>\n",
       "      <th>Salary</th>\n",
       "      <th>Digination</th>\n",
       "    </tr>\n",
       "  </thead>\n",
       "  <tbody>\n",
       "    <tr>\n",
       "      <th>0</th>\n",
       "      <td>a</td>\n",
       "      <td>1200</td>\n",
       "      <td>DS</td>\n",
       "    </tr>\n",
       "    <tr>\n",
       "      <th>1</th>\n",
       "      <td>b</td>\n",
       "      <td>1500</td>\n",
       "      <td>DA</td>\n",
       "    </tr>\n",
       "  </tbody>\n",
       "</table>\n",
       "</div>"
      ],
      "text/plain": [
       "  Name  Salary Digination\n",
       "0    a    1200         DS\n",
       "1    b    1500         DA"
      ]
     },
     "execution_count": 24,
     "metadata": {},
     "output_type": "execute_result"
    }
   ],
   "source": [
    "df.iloc[:2]"
   ]
  },
  {
   "cell_type": "code",
   "execution_count": 25,
   "id": "896b3381",
   "metadata": {},
   "outputs": [
    {
     "data": {
      "text/html": [
       "<div>\n",
       "<style scoped>\n",
       "    .dataframe tbody tr th:only-of-type {\n",
       "        vertical-align: middle;\n",
       "    }\n",
       "\n",
       "    .dataframe tbody tr th {\n",
       "        vertical-align: top;\n",
       "    }\n",
       "\n",
       "    .dataframe thead th {\n",
       "        text-align: right;\n",
       "    }\n",
       "</style>\n",
       "<table border=\"1\" class=\"dataframe\">\n",
       "  <thead>\n",
       "    <tr style=\"text-align: right;\">\n",
       "      <th></th>\n",
       "      <th>Name</th>\n",
       "    </tr>\n",
       "  </thead>\n",
       "  <tbody>\n",
       "    <tr>\n",
       "      <th>0</th>\n",
       "      <td>a</td>\n",
       "    </tr>\n",
       "    <tr>\n",
       "      <th>1</th>\n",
       "      <td>b</td>\n",
       "    </tr>\n",
       "    <tr>\n",
       "      <th>2</th>\n",
       "      <td>c</td>\n",
       "    </tr>\n",
       "    <tr>\n",
       "      <th>3</th>\n",
       "      <td>d</td>\n",
       "    </tr>\n",
       "  </tbody>\n",
       "</table>\n",
       "</div>"
      ],
      "text/plain": [
       "  Name\n",
       "0    a\n",
       "1    b\n",
       "2    c\n",
       "3    d"
      ]
     },
     "execution_count": 25,
     "metadata": {},
     "output_type": "execute_result"
    }
   ],
   "source": [
    "df.iloc[:,:1] ## select the first columns"
   ]
  },
  {
   "cell_type": "code",
   "execution_count": 26,
   "id": "7e07d0d2",
   "metadata": {},
   "outputs": [
    {
     "data": {
      "text/html": [
       "<div>\n",
       "<style scoped>\n",
       "    .dataframe tbody tr th:only-of-type {\n",
       "        vertical-align: middle;\n",
       "    }\n",
       "\n",
       "    .dataframe tbody tr th {\n",
       "        vertical-align: top;\n",
       "    }\n",
       "\n",
       "    .dataframe thead th {\n",
       "        text-align: right;\n",
       "    }\n",
       "</style>\n",
       "<table border=\"1\" class=\"dataframe\">\n",
       "  <thead>\n",
       "    <tr style=\"text-align: right;\">\n",
       "      <th></th>\n",
       "      <th>Digination</th>\n",
       "    </tr>\n",
       "  </thead>\n",
       "  <tbody>\n",
       "    <tr>\n",
       "      <th>0</th>\n",
       "      <td>DS</td>\n",
       "    </tr>\n",
       "    <tr>\n",
       "      <th>1</th>\n",
       "      <td>DA</td>\n",
       "    </tr>\n",
       "    <tr>\n",
       "      <th>2</th>\n",
       "      <td>DE</td>\n",
       "    </tr>\n",
       "    <tr>\n",
       "      <th>3</th>\n",
       "      <td>HR</td>\n",
       "    </tr>\n",
       "  </tbody>\n",
       "</table>\n",
       "</div>"
      ],
      "text/plain": [
       "  Digination\n",
       "0         DS\n",
       "1         DA\n",
       "2         DE\n",
       "3         HR"
      ]
     },
     "execution_count": 26,
     "metadata": {},
     "output_type": "execute_result"
    }
   ],
   "source": [
    "df.iloc[:,-1:] # select the second column"
   ]
  },
  {
   "cell_type": "code",
   "execution_count": 27,
   "id": "952667a2",
   "metadata": {},
   "outputs": [
    {
     "data": {
      "text/html": [
       "<div>\n",
       "<style scoped>\n",
       "    .dataframe tbody tr th:only-of-type {\n",
       "        vertical-align: middle;\n",
       "    }\n",
       "\n",
       "    .dataframe tbody tr th {\n",
       "        vertical-align: top;\n",
       "    }\n",
       "\n",
       "    .dataframe thead th {\n",
       "        text-align: right;\n",
       "    }\n",
       "</style>\n",
       "<table border=\"1\" class=\"dataframe\">\n",
       "  <thead>\n",
       "    <tr style=\"text-align: right;\">\n",
       "      <th></th>\n",
       "      <th>Salary</th>\n",
       "    </tr>\n",
       "  </thead>\n",
       "  <tbody>\n",
       "    <tr>\n",
       "      <th>0</th>\n",
       "      <td>1200</td>\n",
       "    </tr>\n",
       "    <tr>\n",
       "      <th>1</th>\n",
       "      <td>1500</td>\n",
       "    </tr>\n",
       "    <tr>\n",
       "      <th>2</th>\n",
       "      <td>1600</td>\n",
       "    </tr>\n",
       "    <tr>\n",
       "      <th>3</th>\n",
       "      <td>1440</td>\n",
       "    </tr>\n",
       "  </tbody>\n",
       "</table>\n",
       "</div>"
      ],
      "text/plain": [
       "   Salary\n",
       "0    1200\n",
       "1    1500\n",
       "2    1600\n",
       "3    1440"
      ]
     },
     "execution_count": 27,
     "metadata": {},
     "output_type": "execute_result"
    }
   ],
   "source": [
    "df.iloc[:,1:2] #select the last column"
   ]
  },
  {
   "cell_type": "markdown",
   "id": "9560e494",
   "metadata": {},
   "source": [
    "### Update\n",
    "pandas update: DataFrame value update, inplace modification, data modification, data synchronization."
   ]
  },
  {
   "cell_type": "code",
   "execution_count": 28,
   "id": "52282b36",
   "metadata": {},
   "outputs": [
    {
     "data": {
      "text/html": [
       "<div>\n",
       "<style scoped>\n",
       "    .dataframe tbody tr th:only-of-type {\n",
       "        vertical-align: middle;\n",
       "    }\n",
       "\n",
       "    .dataframe tbody tr th {\n",
       "        vertical-align: top;\n",
       "    }\n",
       "\n",
       "    .dataframe thead th {\n",
       "        text-align: right;\n",
       "    }\n",
       "</style>\n",
       "<table border=\"1\" class=\"dataframe\">\n",
       "  <thead>\n",
       "    <tr style=\"text-align: right;\">\n",
       "      <th></th>\n",
       "      <th>Name</th>\n",
       "      <th>Salary</th>\n",
       "      <th>Digination</th>\n",
       "    </tr>\n",
       "  </thead>\n",
       "  <tbody>\n",
       "    <tr>\n",
       "      <th>0</th>\n",
       "      <td>a</td>\n",
       "      <td>1200</td>\n",
       "      <td>DS</td>\n",
       "    </tr>\n",
       "    <tr>\n",
       "      <th>1</th>\n",
       "      <td>b</td>\n",
       "      <td>1500</td>\n",
       "      <td>DA</td>\n",
       "    </tr>\n",
       "  </tbody>\n",
       "</table>\n",
       "</div>"
      ],
      "text/plain": [
       "  Name  Salary Digination\n",
       "0    a    1200         DS\n",
       "1    b    1500         DA"
      ]
     },
     "execution_count": 28,
     "metadata": {},
     "output_type": "execute_result"
    }
   ],
   "source": [
    "df.head(2)"
   ]
  },
  {
   "cell_type": "code",
   "execution_count": 29,
   "id": "f5544d98",
   "metadata": {},
   "outputs": [],
   "source": [
    "## how to update 1200 to 15000\n",
    "df.loc[df[\"Salary\"]==1200,\"Salary\"] = 15000 "
   ]
  },
  {
   "cell_type": "code",
   "execution_count": 30,
   "id": "a4bee284",
   "metadata": {},
   "outputs": [
    {
     "data": {
      "text/html": [
       "<div>\n",
       "<style scoped>\n",
       "    .dataframe tbody tr th:only-of-type {\n",
       "        vertical-align: middle;\n",
       "    }\n",
       "\n",
       "    .dataframe tbody tr th {\n",
       "        vertical-align: top;\n",
       "    }\n",
       "\n",
       "    .dataframe thead th {\n",
       "        text-align: right;\n",
       "    }\n",
       "</style>\n",
       "<table border=\"1\" class=\"dataframe\">\n",
       "  <thead>\n",
       "    <tr style=\"text-align: right;\">\n",
       "      <th></th>\n",
       "      <th>Name</th>\n",
       "      <th>Salary</th>\n",
       "      <th>Digination</th>\n",
       "    </tr>\n",
       "  </thead>\n",
       "  <tbody>\n",
       "    <tr>\n",
       "      <th>0</th>\n",
       "      <td>a</td>\n",
       "      <td>15000</td>\n",
       "      <td>DS</td>\n",
       "    </tr>\n",
       "    <tr>\n",
       "      <th>1</th>\n",
       "      <td>b</td>\n",
       "      <td>1500</td>\n",
       "      <td>DA</td>\n",
       "    </tr>\n",
       "    <tr>\n",
       "      <th>2</th>\n",
       "      <td>c</td>\n",
       "      <td>1600</td>\n",
       "      <td>DE</td>\n",
       "    </tr>\n",
       "    <tr>\n",
       "      <th>3</th>\n",
       "      <td>d</td>\n",
       "      <td>1440</td>\n",
       "      <td>HR</td>\n",
       "    </tr>\n",
       "  </tbody>\n",
       "</table>\n",
       "</div>"
      ],
      "text/plain": [
       "  Name  Salary Digination\n",
       "0    a   15000         DS\n",
       "1    b    1500         DA\n",
       "2    c    1600         DE\n",
       "3    d    1440         HR"
      ]
     },
     "execution_count": 30,
     "metadata": {},
     "output_type": "execute_result"
    }
   ],
   "source": [
    "df"
   ]
  },
  {
   "cell_type": "code",
   "execution_count": 31,
   "id": "f70f8554",
   "metadata": {},
   "outputs": [],
   "source": [
    "## 1 option : change the person name like a to abcd\n",
    "df.loc[df[\"Name\"]==\"a\",\"Name\"] = \"Abcd\""
   ]
  },
  {
   "cell_type": "code",
   "execution_count": 32,
   "id": "ecb3f886",
   "metadata": {},
   "outputs": [
    {
     "data": {
      "text/html": [
       "<div>\n",
       "<style scoped>\n",
       "    .dataframe tbody tr th:only-of-type {\n",
       "        vertical-align: middle;\n",
       "    }\n",
       "\n",
       "    .dataframe tbody tr th {\n",
       "        vertical-align: top;\n",
       "    }\n",
       "\n",
       "    .dataframe thead th {\n",
       "        text-align: right;\n",
       "    }\n",
       "</style>\n",
       "<table border=\"1\" class=\"dataframe\">\n",
       "  <thead>\n",
       "    <tr style=\"text-align: right;\">\n",
       "      <th></th>\n",
       "      <th>Name</th>\n",
       "      <th>Salary</th>\n",
       "      <th>Digination</th>\n",
       "    </tr>\n",
       "  </thead>\n",
       "  <tbody>\n",
       "    <tr>\n",
       "      <th>0</th>\n",
       "      <td>Abcd</td>\n",
       "      <td>15000</td>\n",
       "      <td>DS</td>\n",
       "    </tr>\n",
       "    <tr>\n",
       "      <th>1</th>\n",
       "      <td>b</td>\n",
       "      <td>1500</td>\n",
       "      <td>DA</td>\n",
       "    </tr>\n",
       "    <tr>\n",
       "      <th>2</th>\n",
       "      <td>c</td>\n",
       "      <td>1600</td>\n",
       "      <td>DE</td>\n",
       "    </tr>\n",
       "    <tr>\n",
       "      <th>3</th>\n",
       "      <td>d</td>\n",
       "      <td>1440</td>\n",
       "      <td>HR</td>\n",
       "    </tr>\n",
       "  </tbody>\n",
       "</table>\n",
       "</div>"
      ],
      "text/plain": [
       "   Name  Salary Digination\n",
       "0  Abcd   15000         DS\n",
       "1     b    1500         DA\n",
       "2     c    1600         DE\n",
       "3     d    1440         HR"
      ]
     },
     "execution_count": 32,
     "metadata": {},
     "output_type": "execute_result"
    }
   ],
   "source": [
    "df"
   ]
  },
  {
   "cell_type": "code",
   "execution_count": 33,
   "id": "18f27bb0",
   "metadata": {},
   "outputs": [],
   "source": [
    "## 2 option: also used this second way\n",
    "df[\"Digination\"][1] =\"Data_Analyst\""
   ]
  },
  {
   "cell_type": "code",
   "execution_count": 34,
   "id": "b5d7ad4b",
   "metadata": {},
   "outputs": [
    {
     "data": {
      "text/html": [
       "<div>\n",
       "<style scoped>\n",
       "    .dataframe tbody tr th:only-of-type {\n",
       "        vertical-align: middle;\n",
       "    }\n",
       "\n",
       "    .dataframe tbody tr th {\n",
       "        vertical-align: top;\n",
       "    }\n",
       "\n",
       "    .dataframe thead th {\n",
       "        text-align: right;\n",
       "    }\n",
       "</style>\n",
       "<table border=\"1\" class=\"dataframe\">\n",
       "  <thead>\n",
       "    <tr style=\"text-align: right;\">\n",
       "      <th></th>\n",
       "      <th>Name</th>\n",
       "      <th>Salary</th>\n",
       "      <th>Digination</th>\n",
       "    </tr>\n",
       "  </thead>\n",
       "  <tbody>\n",
       "    <tr>\n",
       "      <th>0</th>\n",
       "      <td>Abcd</td>\n",
       "      <td>15000</td>\n",
       "      <td>DS</td>\n",
       "    </tr>\n",
       "    <tr>\n",
       "      <th>1</th>\n",
       "      <td>b</td>\n",
       "      <td>1500</td>\n",
       "      <td>Data_Analyst</td>\n",
       "    </tr>\n",
       "    <tr>\n",
       "      <th>2</th>\n",
       "      <td>c</td>\n",
       "      <td>1600</td>\n",
       "      <td>DE</td>\n",
       "    </tr>\n",
       "    <tr>\n",
       "      <th>3</th>\n",
       "      <td>d</td>\n",
       "      <td>1440</td>\n",
       "      <td>HR</td>\n",
       "    </tr>\n",
       "  </tbody>\n",
       "</table>\n",
       "</div>"
      ],
      "text/plain": [
       "   Name  Salary    Digination\n",
       "0  Abcd   15000            DS\n",
       "1     b    1500  Data_Analyst\n",
       "2     c    1600            DE\n",
       "3     d    1440            HR"
      ]
     },
     "execution_count": 34,
     "metadata": {},
     "output_type": "execute_result"
    }
   ],
   "source": [
    "df"
   ]
  },
  {
   "cell_type": "code",
   "execution_count": 35,
   "id": "7bf71854",
   "metadata": {},
   "outputs": [],
   "source": [
    "## 3 option chage update values name whatever you wand\n",
    "df[\"Digination\"] = df[\"Digination\"].replace({\"DS\":\"Data_Science\"})"
   ]
  },
  {
   "cell_type": "code",
   "execution_count": 36,
   "id": "fda33485",
   "metadata": {},
   "outputs": [
    {
     "data": {
      "text/html": [
       "<div>\n",
       "<style scoped>\n",
       "    .dataframe tbody tr th:only-of-type {\n",
       "        vertical-align: middle;\n",
       "    }\n",
       "\n",
       "    .dataframe tbody tr th {\n",
       "        vertical-align: top;\n",
       "    }\n",
       "\n",
       "    .dataframe thead th {\n",
       "        text-align: right;\n",
       "    }\n",
       "</style>\n",
       "<table border=\"1\" class=\"dataframe\">\n",
       "  <thead>\n",
       "    <tr style=\"text-align: right;\">\n",
       "      <th></th>\n",
       "      <th>Name</th>\n",
       "      <th>Salary</th>\n",
       "      <th>Digination</th>\n",
       "    </tr>\n",
       "  </thead>\n",
       "  <tbody>\n",
       "    <tr>\n",
       "      <th>0</th>\n",
       "      <td>Abcd</td>\n",
       "      <td>15000</td>\n",
       "      <td>Data_Science</td>\n",
       "    </tr>\n",
       "    <tr>\n",
       "      <th>1</th>\n",
       "      <td>b</td>\n",
       "      <td>1500</td>\n",
       "      <td>Data_Analyst</td>\n",
       "    </tr>\n",
       "    <tr>\n",
       "      <th>2</th>\n",
       "      <td>c</td>\n",
       "      <td>1600</td>\n",
       "      <td>DE</td>\n",
       "    </tr>\n",
       "    <tr>\n",
       "      <th>3</th>\n",
       "      <td>d</td>\n",
       "      <td>1440</td>\n",
       "      <td>HR</td>\n",
       "    </tr>\n",
       "  </tbody>\n",
       "</table>\n",
       "</div>"
      ],
      "text/plain": [
       "   Name  Salary    Digination\n",
       "0  Abcd   15000  Data_Science\n",
       "1     b    1500  Data_Analyst\n",
       "2     c    1600            DE\n",
       "3     d    1440            HR"
      ]
     },
     "execution_count": 36,
     "metadata": {},
     "output_type": "execute_result"
    }
   ],
   "source": [
    "df"
   ]
  },
  {
   "cell_type": "code",
   "execution_count": 37,
   "id": "ed768ea1",
   "metadata": {},
   "outputs": [
    {
     "data": {
      "text/html": [
       "<div>\n",
       "<style scoped>\n",
       "    .dataframe tbody tr th:only-of-type {\n",
       "        vertical-align: middle;\n",
       "    }\n",
       "\n",
       "    .dataframe tbody tr th {\n",
       "        vertical-align: top;\n",
       "    }\n",
       "\n",
       "    .dataframe thead th {\n",
       "        text-align: right;\n",
       "    }\n",
       "</style>\n",
       "<table border=\"1\" class=\"dataframe\">\n",
       "  <thead>\n",
       "    <tr style=\"text-align: right;\">\n",
       "      <th></th>\n",
       "      <th>Name</th>\n",
       "      <th>Salary</th>\n",
       "      <th>Digination</th>\n",
       "    </tr>\n",
       "  </thead>\n",
       "  <tbody>\n",
       "    <tr>\n",
       "      <th>0</th>\n",
       "      <td>Abcd</td>\n",
       "      <td>15000</td>\n",
       "      <td>Data_Science</td>\n",
       "    </tr>\n",
       "    <tr>\n",
       "      <th>1</th>\n",
       "      <td>b</td>\n",
       "      <td>1500</td>\n",
       "      <td>Data_Analyst</td>\n",
       "    </tr>\n",
       "    <tr>\n",
       "      <th>2</th>\n",
       "      <td>c</td>\n",
       "      <td>1600</td>\n",
       "      <td>Data_engineer</td>\n",
       "    </tr>\n",
       "    <tr>\n",
       "      <th>3</th>\n",
       "      <td>d</td>\n",
       "      <td>1440</td>\n",
       "      <td>HR</td>\n",
       "    </tr>\n",
       "  </tbody>\n",
       "</table>\n",
       "</div>"
      ],
      "text/plain": [
       "   Name  Salary     Digination\n",
       "0  Abcd   15000   Data_Science\n",
       "1     b    1500   Data_Analyst\n",
       "2     c    1600  Data_engineer\n",
       "3     d    1440             HR"
      ]
     },
     "execution_count": 37,
     "metadata": {},
     "output_type": "execute_result"
    }
   ],
   "source": [
    "# this is 4 option update values\n",
    "df.replace({\"DE\":\"Data_engineer\"})"
   ]
  },
  {
   "cell_type": "markdown",
   "id": "25b090cb",
   "metadata": {},
   "source": [
    "### Delete in DataFrame\n",
    "\n",
    "pandas delete: DataFrame data removal, row/column deletion, data manipulation, data modification."
   ]
  },
  {
   "cell_type": "code",
   "execution_count": 38,
   "id": "773c8e15",
   "metadata": {},
   "outputs": [
    {
     "data": {
      "text/html": [
       "<div>\n",
       "<style scoped>\n",
       "    .dataframe tbody tr th:only-of-type {\n",
       "        vertical-align: middle;\n",
       "    }\n",
       "\n",
       "    .dataframe tbody tr th {\n",
       "        vertical-align: top;\n",
       "    }\n",
       "\n",
       "    .dataframe thead th {\n",
       "        text-align: right;\n",
       "    }\n",
       "</style>\n",
       "<table border=\"1\" class=\"dataframe\">\n",
       "  <thead>\n",
       "    <tr style=\"text-align: right;\">\n",
       "      <th></th>\n",
       "      <th>Name</th>\n",
       "      <th>Salary</th>\n",
       "      <th>Digination</th>\n",
       "    </tr>\n",
       "  </thead>\n",
       "  <tbody>\n",
       "    <tr>\n",
       "      <th>0</th>\n",
       "      <td>Abcd</td>\n",
       "      <td>15000</td>\n",
       "      <td>Data_Science</td>\n",
       "    </tr>\n",
       "    <tr>\n",
       "      <th>1</th>\n",
       "      <td>b</td>\n",
       "      <td>1500</td>\n",
       "      <td>Data_Analyst</td>\n",
       "    </tr>\n",
       "  </tbody>\n",
       "</table>\n",
       "</div>"
      ],
      "text/plain": [
       "   Name  Salary    Digination\n",
       "0  Abcd   15000  Data_Science\n",
       "1     b    1500  Data_Analyst"
      ]
     },
     "execution_count": 38,
     "metadata": {},
     "output_type": "execute_result"
    }
   ],
   "source": [
    "df.head(2)"
   ]
  },
  {
   "cell_type": "code",
   "execution_count": 39,
   "id": "d0a97f96",
   "metadata": {},
   "outputs": [
    {
     "data": {
      "text/html": [
       "<div>\n",
       "<style scoped>\n",
       "    .dataframe tbody tr th:only-of-type {\n",
       "        vertical-align: middle;\n",
       "    }\n",
       "\n",
       "    .dataframe tbody tr th {\n",
       "        vertical-align: top;\n",
       "    }\n",
       "\n",
       "    .dataframe thead th {\n",
       "        text-align: right;\n",
       "    }\n",
       "</style>\n",
       "<table border=\"1\" class=\"dataframe\">\n",
       "  <thead>\n",
       "    <tr style=\"text-align: right;\">\n",
       "      <th></th>\n",
       "      <th>Name</th>\n",
       "      <th>Salary</th>\n",
       "      <th>Digination</th>\n",
       "    </tr>\n",
       "  </thead>\n",
       "  <tbody>\n",
       "    <tr>\n",
       "      <th>1</th>\n",
       "      <td>b</td>\n",
       "      <td>1500</td>\n",
       "      <td>Data_Analyst</td>\n",
       "    </tr>\n",
       "    <tr>\n",
       "      <th>3</th>\n",
       "      <td>d</td>\n",
       "      <td>1440</td>\n",
       "      <td>HR</td>\n",
       "    </tr>\n",
       "  </tbody>\n",
       "</table>\n",
       "</div>"
      ],
      "text/plain": [
       "  Name  Salary    Digination\n",
       "1    b    1500  Data_Analyst\n",
       "3    d    1440            HR"
      ]
     },
     "execution_count": 39,
     "metadata": {},
     "output_type": "execute_result"
    }
   ],
   "source": [
    "# drop the 0 , 2 index data usesing the axis=0 it used the select of the row\n",
    "df.drop([0,2],axis=0) "
   ]
  },
  {
   "cell_type": "code",
   "execution_count": 40,
   "id": "04df7ccd",
   "metadata": {},
   "outputs": [
    {
     "data": {
      "text/html": [
       "<div>\n",
       "<style scoped>\n",
       "    .dataframe tbody tr th:only-of-type {\n",
       "        vertical-align: middle;\n",
       "    }\n",
       "\n",
       "    .dataframe tbody tr th {\n",
       "        vertical-align: top;\n",
       "    }\n",
       "\n",
       "    .dataframe thead th {\n",
       "        text-align: right;\n",
       "    }\n",
       "</style>\n",
       "<table border=\"1\" class=\"dataframe\">\n",
       "  <thead>\n",
       "    <tr style=\"text-align: right;\">\n",
       "      <th></th>\n",
       "      <th>Salary</th>\n",
       "      <th>Digination</th>\n",
       "    </tr>\n",
       "  </thead>\n",
       "  <tbody>\n",
       "    <tr>\n",
       "      <th>0</th>\n",
       "      <td>15000</td>\n",
       "      <td>Data_Science</td>\n",
       "    </tr>\n",
       "    <tr>\n",
       "      <th>1</th>\n",
       "      <td>1500</td>\n",
       "      <td>Data_Analyst</td>\n",
       "    </tr>\n",
       "    <tr>\n",
       "      <th>2</th>\n",
       "      <td>1600</td>\n",
       "      <td>DE</td>\n",
       "    </tr>\n",
       "    <tr>\n",
       "      <th>3</th>\n",
       "      <td>1440</td>\n",
       "      <td>HR</td>\n",
       "    </tr>\n",
       "  </tbody>\n",
       "</table>\n",
       "</div>"
      ],
      "text/plain": [
       "   Salary    Digination\n",
       "0   15000  Data_Science\n",
       "1    1500  Data_Analyst\n",
       "2    1600            DE\n",
       "3    1440            HR"
      ]
     },
     "execution_count": 40,
     "metadata": {},
     "output_type": "execute_result"
    }
   ],
   "source": [
    "# drop the columns apply the axis=1\n",
    "df.drop(columns=\"Name\",axis=1)"
   ]
  },
  {
   "cell_type": "code",
   "execution_count": 41,
   "id": "c23407f4",
   "metadata": {},
   "outputs": [
    {
     "data": {
      "text/html": [
       "<div>\n",
       "<style scoped>\n",
       "    .dataframe tbody tr th:only-of-type {\n",
       "        vertical-align: middle;\n",
       "    }\n",
       "\n",
       "    .dataframe tbody tr th {\n",
       "        vertical-align: top;\n",
       "    }\n",
       "\n",
       "    .dataframe thead th {\n",
       "        text-align: right;\n",
       "    }\n",
       "</style>\n",
       "<table border=\"1\" class=\"dataframe\">\n",
       "  <thead>\n",
       "    <tr style=\"text-align: right;\">\n",
       "      <th></th>\n",
       "      <th>Digination</th>\n",
       "    </tr>\n",
       "  </thead>\n",
       "  <tbody>\n",
       "    <tr>\n",
       "      <th>0</th>\n",
       "      <td>Data_Science</td>\n",
       "    </tr>\n",
       "    <tr>\n",
       "      <th>1</th>\n",
       "      <td>Data_Analyst</td>\n",
       "    </tr>\n",
       "    <tr>\n",
       "      <th>2</th>\n",
       "      <td>DE</td>\n",
       "    </tr>\n",
       "    <tr>\n",
       "      <th>3</th>\n",
       "      <td>HR</td>\n",
       "    </tr>\n",
       "  </tbody>\n",
       "</table>\n",
       "</div>"
      ],
      "text/plain": [
       "     Digination\n",
       "0  Data_Science\n",
       "1  Data_Analyst\n",
       "2            DE\n",
       "3            HR"
      ]
     },
     "execution_count": 41,
     "metadata": {},
     "output_type": "execute_result"
    }
   ],
   "source": [
    "# drop the maltiple columns\n",
    "df.drop(columns=[\"Name\",\"Salary\"],axis=1)"
   ]
  },
  {
   "cell_type": "markdown",
   "id": "09596314",
   "metadata": {},
   "source": [
    "### Joing Data \n",
    "pandas join: DataFrame merging, combining data, concatenating, data integration, data consolidation."
   ]
  },
  {
   "cell_type": "code",
   "execution_count": 42,
   "id": "4785ab3c",
   "metadata": {},
   "outputs": [
    {
     "data": {
      "text/html": [
       "<div>\n",
       "<style scoped>\n",
       "    .dataframe tbody tr th:only-of-type {\n",
       "        vertical-align: middle;\n",
       "    }\n",
       "\n",
       "    .dataframe tbody tr th {\n",
       "        vertical-align: top;\n",
       "    }\n",
       "\n",
       "    .dataframe thead th {\n",
       "        text-align: right;\n",
       "    }\n",
       "</style>\n",
       "<table border=\"1\" class=\"dataframe\">\n",
       "  <thead>\n",
       "    <tr style=\"text-align: right;\">\n",
       "      <th></th>\n",
       "      <th>A</th>\n",
       "      <th>B</th>\n",
       "      <th>C</th>\n",
       "      <th>D</th>\n",
       "      <th>E</th>\n",
       "    </tr>\n",
       "  </thead>\n",
       "  <tbody>\n",
       "    <tr>\n",
       "      <th>0</th>\n",
       "      <td>0.712352</td>\n",
       "      <td>0.193029</td>\n",
       "      <td>0.244584</td>\n",
       "      <td>0.899415</td>\n",
       "      <td>0.616184</td>\n",
       "    </tr>\n",
       "    <tr>\n",
       "      <th>1</th>\n",
       "      <td>0.545506</td>\n",
       "      <td>0.621864</td>\n",
       "      <td>0.369646</td>\n",
       "      <td>0.097115</td>\n",
       "      <td>0.993448</td>\n",
       "    </tr>\n",
       "    <tr>\n",
       "      <th>2</th>\n",
       "      <td>0.254841</td>\n",
       "      <td>0.918163</td>\n",
       "      <td>0.290843</td>\n",
       "      <td>0.830499</td>\n",
       "      <td>0.500927</td>\n",
       "    </tr>\n",
       "    <tr>\n",
       "      <th>3</th>\n",
       "      <td>0.402794</td>\n",
       "      <td>0.735437</td>\n",
       "      <td>0.090214</td>\n",
       "      <td>0.524410</td>\n",
       "      <td>0.687651</td>\n",
       "    </tr>\n",
       "    <tr>\n",
       "      <th>4</th>\n",
       "      <td>0.752447</td>\n",
       "      <td>0.616454</td>\n",
       "      <td>0.535175</td>\n",
       "      <td>0.556993</td>\n",
       "      <td>0.505008</td>\n",
       "    </tr>\n",
       "    <tr>\n",
       "      <th>5</th>\n",
       "      <td>0.307763</td>\n",
       "      <td>0.800903</td>\n",
       "      <td>0.033565</td>\n",
       "      <td>0.238134</td>\n",
       "      <td>0.060355</td>\n",
       "    </tr>\n",
       "    <tr>\n",
       "      <th>6</th>\n",
       "      <td>0.720638</td>\n",
       "      <td>0.269161</td>\n",
       "      <td>0.382551</td>\n",
       "      <td>0.274263</td>\n",
       "      <td>0.398200</td>\n",
       "    </tr>\n",
       "    <tr>\n",
       "      <th>7</th>\n",
       "      <td>0.393131</td>\n",
       "      <td>0.022682</td>\n",
       "      <td>0.341046</td>\n",
       "      <td>0.551208</td>\n",
       "      <td>0.414696</td>\n",
       "    </tr>\n",
       "    <tr>\n",
       "      <th>8</th>\n",
       "      <td>0.961893</td>\n",
       "      <td>0.384181</td>\n",
       "      <td>0.476470</td>\n",
       "      <td>0.131453</td>\n",
       "      <td>0.738039</td>\n",
       "    </tr>\n",
       "    <tr>\n",
       "      <th>9</th>\n",
       "      <td>0.747526</td>\n",
       "      <td>0.030247</td>\n",
       "      <td>0.876620</td>\n",
       "      <td>0.664549</td>\n",
       "      <td>0.223322</td>\n",
       "    </tr>\n",
       "  </tbody>\n",
       "</table>\n",
       "</div>"
      ],
      "text/plain": [
       "          A         B         C         D         E\n",
       "0  0.712352  0.193029  0.244584  0.899415  0.616184\n",
       "1  0.545506  0.621864  0.369646  0.097115  0.993448\n",
       "2  0.254841  0.918163  0.290843  0.830499  0.500927\n",
       "3  0.402794  0.735437  0.090214  0.524410  0.687651\n",
       "4  0.752447  0.616454  0.535175  0.556993  0.505008\n",
       "5  0.307763  0.800903  0.033565  0.238134  0.060355\n",
       "6  0.720638  0.269161  0.382551  0.274263  0.398200\n",
       "7  0.393131  0.022682  0.341046  0.551208  0.414696\n",
       "8  0.961893  0.384181  0.476470  0.131453  0.738039\n",
       "9  0.747526  0.030247  0.876620  0.664549  0.223322"
      ]
     },
     "execution_count": 42,
     "metadata": {},
     "output_type": "execute_result"
    }
   ],
   "source": [
    "# create the random data1\n",
    "df_1 = pd.DataFrame(np.random.rand(50).reshape(10,5),columns=list(\"ABCDE\"))\n",
    "df_1"
   ]
  },
  {
   "cell_type": "code",
   "execution_count": 43,
   "id": "f8f6d6a1",
   "metadata": {},
   "outputs": [
    {
     "data": {
      "text/html": [
       "<div>\n",
       "<style scoped>\n",
       "    .dataframe tbody tr th:only-of-type {\n",
       "        vertical-align: middle;\n",
       "    }\n",
       "\n",
       "    .dataframe tbody tr th {\n",
       "        vertical-align: top;\n",
       "    }\n",
       "\n",
       "    .dataframe thead th {\n",
       "        text-align: right;\n",
       "    }\n",
       "</style>\n",
       "<table border=\"1\" class=\"dataframe\">\n",
       "  <thead>\n",
       "    <tr style=\"text-align: right;\">\n",
       "      <th></th>\n",
       "      <th>A</th>\n",
       "      <th>B</th>\n",
       "      <th>C</th>\n",
       "      <th>D</th>\n",
       "      <th>E</th>\n",
       "    </tr>\n",
       "  </thead>\n",
       "  <tbody>\n",
       "    <tr>\n",
       "      <th>0</th>\n",
       "      <td>0.199448</td>\n",
       "      <td>0.640729</td>\n",
       "      <td>0.338201</td>\n",
       "      <td>0.325400</td>\n",
       "      <td>0.560023</td>\n",
       "    </tr>\n",
       "    <tr>\n",
       "      <th>1</th>\n",
       "      <td>0.187651</td>\n",
       "      <td>0.898638</td>\n",
       "      <td>0.748545</td>\n",
       "      <td>0.615809</td>\n",
       "      <td>0.205943</td>\n",
       "    </tr>\n",
       "    <tr>\n",
       "      <th>2</th>\n",
       "      <td>0.615692</td>\n",
       "      <td>0.872717</td>\n",
       "      <td>0.684638</td>\n",
       "      <td>0.098170</td>\n",
       "      <td>0.708878</td>\n",
       "    </tr>\n",
       "    <tr>\n",
       "      <th>3</th>\n",
       "      <td>0.317910</td>\n",
       "      <td>0.481638</td>\n",
       "      <td>0.622188</td>\n",
       "      <td>0.585283</td>\n",
       "      <td>0.590491</td>\n",
       "    </tr>\n",
       "    <tr>\n",
       "      <th>4</th>\n",
       "      <td>0.411473</td>\n",
       "      <td>0.447779</td>\n",
       "      <td>0.760611</td>\n",
       "      <td>0.162179</td>\n",
       "      <td>0.368231</td>\n",
       "    </tr>\n",
       "  </tbody>\n",
       "</table>\n",
       "</div>"
      ],
      "text/plain": [
       "          A         B         C         D         E\n",
       "0  0.199448  0.640729  0.338201  0.325400  0.560023\n",
       "1  0.187651  0.898638  0.748545  0.615809  0.205943\n",
       "2  0.615692  0.872717  0.684638  0.098170  0.708878\n",
       "3  0.317910  0.481638  0.622188  0.585283  0.590491\n",
       "4  0.411473  0.447779  0.760611  0.162179  0.368231"
      ]
     },
     "execution_count": 43,
     "metadata": {},
     "output_type": "execute_result"
    }
   ],
   "source": [
    "# create datafram 2\n",
    "df_2 = pd.DataFrame(np.random.rand(25).reshape(5,5),columns=list(\"ABCDE\"))\n",
    "df_2"
   ]
  },
  {
   "cell_type": "code",
   "execution_count": 44,
   "id": "0ebbacca",
   "metadata": {},
   "outputs": [
    {
     "data": {
      "text/plain": [
       "(10, 5)"
      ]
     },
     "execution_count": 44,
     "metadata": {},
     "output_type": "execute_result"
    }
   ],
   "source": [
    "#check the df1 data shape\n",
    "df_1.shape"
   ]
  },
  {
   "cell_type": "code",
   "execution_count": 45,
   "id": "21fbce81",
   "metadata": {},
   "outputs": [
    {
     "data": {
      "text/plain": [
       "(5, 5)"
      ]
     },
     "execution_count": 45,
     "metadata": {},
     "output_type": "execute_result"
    }
   ],
   "source": [
    "#check the df2 data shape\n",
    "df_2.shape"
   ]
  },
  {
   "cell_type": "markdown",
   "id": "cd399641",
   "metadata": {},
   "source": [
    "## concat\n",
    "\n",
    "\"concat\" in pandas: Function to concatenate and stack DataFrames along specified axis for data combination."
   ]
  },
  {
   "cell_type": "code",
   "execution_count": 46,
   "id": "1cd2c930",
   "metadata": {},
   "outputs": [
    {
     "data": {
      "text/html": [
       "<div>\n",
       "<style scoped>\n",
       "    .dataframe tbody tr th:only-of-type {\n",
       "        vertical-align: middle;\n",
       "    }\n",
       "\n",
       "    .dataframe tbody tr th {\n",
       "        vertical-align: top;\n",
       "    }\n",
       "\n",
       "    .dataframe thead th {\n",
       "        text-align: right;\n",
       "    }\n",
       "</style>\n",
       "<table border=\"1\" class=\"dataframe\">\n",
       "  <thead>\n",
       "    <tr style=\"text-align: right;\">\n",
       "      <th></th>\n",
       "      <th>A</th>\n",
       "      <th>B</th>\n",
       "      <th>C</th>\n",
       "      <th>D</th>\n",
       "      <th>E</th>\n",
       "    </tr>\n",
       "  </thead>\n",
       "  <tbody>\n",
       "    <tr>\n",
       "      <th>0</th>\n",
       "      <td>0.712352</td>\n",
       "      <td>0.193029</td>\n",
       "      <td>0.244584</td>\n",
       "      <td>0.899415</td>\n",
       "      <td>0.616184</td>\n",
       "    </tr>\n",
       "    <tr>\n",
       "      <th>1</th>\n",
       "      <td>0.545506</td>\n",
       "      <td>0.621864</td>\n",
       "      <td>0.369646</td>\n",
       "      <td>0.097115</td>\n",
       "      <td>0.993448</td>\n",
       "    </tr>\n",
       "    <tr>\n",
       "      <th>2</th>\n",
       "      <td>0.254841</td>\n",
       "      <td>0.918163</td>\n",
       "      <td>0.290843</td>\n",
       "      <td>0.830499</td>\n",
       "      <td>0.500927</td>\n",
       "    </tr>\n",
       "    <tr>\n",
       "      <th>3</th>\n",
       "      <td>0.402794</td>\n",
       "      <td>0.735437</td>\n",
       "      <td>0.090214</td>\n",
       "      <td>0.524410</td>\n",
       "      <td>0.687651</td>\n",
       "    </tr>\n",
       "    <tr>\n",
       "      <th>4</th>\n",
       "      <td>0.752447</td>\n",
       "      <td>0.616454</td>\n",
       "      <td>0.535175</td>\n",
       "      <td>0.556993</td>\n",
       "      <td>0.505008</td>\n",
       "    </tr>\n",
       "    <tr>\n",
       "      <th>5</th>\n",
       "      <td>0.307763</td>\n",
       "      <td>0.800903</td>\n",
       "      <td>0.033565</td>\n",
       "      <td>0.238134</td>\n",
       "      <td>0.060355</td>\n",
       "    </tr>\n",
       "    <tr>\n",
       "      <th>6</th>\n",
       "      <td>0.720638</td>\n",
       "      <td>0.269161</td>\n",
       "      <td>0.382551</td>\n",
       "      <td>0.274263</td>\n",
       "      <td>0.398200</td>\n",
       "    </tr>\n",
       "    <tr>\n",
       "      <th>7</th>\n",
       "      <td>0.393131</td>\n",
       "      <td>0.022682</td>\n",
       "      <td>0.341046</td>\n",
       "      <td>0.551208</td>\n",
       "      <td>0.414696</td>\n",
       "    </tr>\n",
       "    <tr>\n",
       "      <th>8</th>\n",
       "      <td>0.961893</td>\n",
       "      <td>0.384181</td>\n",
       "      <td>0.476470</td>\n",
       "      <td>0.131453</td>\n",
       "      <td>0.738039</td>\n",
       "    </tr>\n",
       "    <tr>\n",
       "      <th>9</th>\n",
       "      <td>0.747526</td>\n",
       "      <td>0.030247</td>\n",
       "      <td>0.876620</td>\n",
       "      <td>0.664549</td>\n",
       "      <td>0.223322</td>\n",
       "    </tr>\n",
       "    <tr>\n",
       "      <th>0</th>\n",
       "      <td>0.199448</td>\n",
       "      <td>0.640729</td>\n",
       "      <td>0.338201</td>\n",
       "      <td>0.325400</td>\n",
       "      <td>0.560023</td>\n",
       "    </tr>\n",
       "    <tr>\n",
       "      <th>1</th>\n",
       "      <td>0.187651</td>\n",
       "      <td>0.898638</td>\n",
       "      <td>0.748545</td>\n",
       "      <td>0.615809</td>\n",
       "      <td>0.205943</td>\n",
       "    </tr>\n",
       "    <tr>\n",
       "      <th>2</th>\n",
       "      <td>0.615692</td>\n",
       "      <td>0.872717</td>\n",
       "      <td>0.684638</td>\n",
       "      <td>0.098170</td>\n",
       "      <td>0.708878</td>\n",
       "    </tr>\n",
       "    <tr>\n",
       "      <th>3</th>\n",
       "      <td>0.317910</td>\n",
       "      <td>0.481638</td>\n",
       "      <td>0.622188</td>\n",
       "      <td>0.585283</td>\n",
       "      <td>0.590491</td>\n",
       "    </tr>\n",
       "    <tr>\n",
       "      <th>4</th>\n",
       "      <td>0.411473</td>\n",
       "      <td>0.447779</td>\n",
       "      <td>0.760611</td>\n",
       "      <td>0.162179</td>\n",
       "      <td>0.368231</td>\n",
       "    </tr>\n",
       "  </tbody>\n",
       "</table>\n",
       "</div>"
      ],
      "text/plain": [
       "          A         B         C         D         E\n",
       "0  0.712352  0.193029  0.244584  0.899415  0.616184\n",
       "1  0.545506  0.621864  0.369646  0.097115  0.993448\n",
       "2  0.254841  0.918163  0.290843  0.830499  0.500927\n",
       "3  0.402794  0.735437  0.090214  0.524410  0.687651\n",
       "4  0.752447  0.616454  0.535175  0.556993  0.505008\n",
       "5  0.307763  0.800903  0.033565  0.238134  0.060355\n",
       "6  0.720638  0.269161  0.382551  0.274263  0.398200\n",
       "7  0.393131  0.022682  0.341046  0.551208  0.414696\n",
       "8  0.961893  0.384181  0.476470  0.131453  0.738039\n",
       "9  0.747526  0.030247  0.876620  0.664549  0.223322\n",
       "0  0.199448  0.640729  0.338201  0.325400  0.560023\n",
       "1  0.187651  0.898638  0.748545  0.615809  0.205943\n",
       "2  0.615692  0.872717  0.684638  0.098170  0.708878\n",
       "3  0.317910  0.481638  0.622188  0.585283  0.590491\n",
       "4  0.411473  0.447779  0.760611  0.162179  0.368231"
      ]
     },
     "execution_count": 46,
     "metadata": {},
     "output_type": "execute_result"
    }
   ],
   "source": [
    "# marge the new dataset row wise\n",
    "pd.concat([df_1,df_2],axis=0)"
   ]
  },
  {
   "cell_type": "code",
   "execution_count": 47,
   "id": "e82bf6e7",
   "metadata": {},
   "outputs": [
    {
     "data": {
      "text/html": [
       "<div>\n",
       "<style scoped>\n",
       "    .dataframe tbody tr th:only-of-type {\n",
       "        vertical-align: middle;\n",
       "    }\n",
       "\n",
       "    .dataframe tbody tr th {\n",
       "        vertical-align: top;\n",
       "    }\n",
       "\n",
       "    .dataframe thead th {\n",
       "        text-align: right;\n",
       "    }\n",
       "</style>\n",
       "<table border=\"1\" class=\"dataframe\">\n",
       "  <thead>\n",
       "    <tr style=\"text-align: right;\">\n",
       "      <th></th>\n",
       "      <th>A</th>\n",
       "      <th>B</th>\n",
       "      <th>C</th>\n",
       "      <th>D</th>\n",
       "      <th>E</th>\n",
       "      <th>A</th>\n",
       "      <th>B</th>\n",
       "      <th>C</th>\n",
       "      <th>D</th>\n",
       "      <th>E</th>\n",
       "    </tr>\n",
       "  </thead>\n",
       "  <tbody>\n",
       "    <tr>\n",
       "      <th>0</th>\n",
       "      <td>0.712352</td>\n",
       "      <td>0.193029</td>\n",
       "      <td>0.244584</td>\n",
       "      <td>0.899415</td>\n",
       "      <td>0.616184</td>\n",
       "      <td>0.199448</td>\n",
       "      <td>0.640729</td>\n",
       "      <td>0.338201</td>\n",
       "      <td>0.325400</td>\n",
       "      <td>0.560023</td>\n",
       "    </tr>\n",
       "    <tr>\n",
       "      <th>1</th>\n",
       "      <td>0.545506</td>\n",
       "      <td>0.621864</td>\n",
       "      <td>0.369646</td>\n",
       "      <td>0.097115</td>\n",
       "      <td>0.993448</td>\n",
       "      <td>0.187651</td>\n",
       "      <td>0.898638</td>\n",
       "      <td>0.748545</td>\n",
       "      <td>0.615809</td>\n",
       "      <td>0.205943</td>\n",
       "    </tr>\n",
       "    <tr>\n",
       "      <th>2</th>\n",
       "      <td>0.254841</td>\n",
       "      <td>0.918163</td>\n",
       "      <td>0.290843</td>\n",
       "      <td>0.830499</td>\n",
       "      <td>0.500927</td>\n",
       "      <td>0.615692</td>\n",
       "      <td>0.872717</td>\n",
       "      <td>0.684638</td>\n",
       "      <td>0.098170</td>\n",
       "      <td>0.708878</td>\n",
       "    </tr>\n",
       "    <tr>\n",
       "      <th>3</th>\n",
       "      <td>0.402794</td>\n",
       "      <td>0.735437</td>\n",
       "      <td>0.090214</td>\n",
       "      <td>0.524410</td>\n",
       "      <td>0.687651</td>\n",
       "      <td>0.317910</td>\n",
       "      <td>0.481638</td>\n",
       "      <td>0.622188</td>\n",
       "      <td>0.585283</td>\n",
       "      <td>0.590491</td>\n",
       "    </tr>\n",
       "    <tr>\n",
       "      <th>4</th>\n",
       "      <td>0.752447</td>\n",
       "      <td>0.616454</td>\n",
       "      <td>0.535175</td>\n",
       "      <td>0.556993</td>\n",
       "      <td>0.505008</td>\n",
       "      <td>0.411473</td>\n",
       "      <td>0.447779</td>\n",
       "      <td>0.760611</td>\n",
       "      <td>0.162179</td>\n",
       "      <td>0.368231</td>\n",
       "    </tr>\n",
       "    <tr>\n",
       "      <th>5</th>\n",
       "      <td>0.307763</td>\n",
       "      <td>0.800903</td>\n",
       "      <td>0.033565</td>\n",
       "      <td>0.238134</td>\n",
       "      <td>0.060355</td>\n",
       "      <td>NaN</td>\n",
       "      <td>NaN</td>\n",
       "      <td>NaN</td>\n",
       "      <td>NaN</td>\n",
       "      <td>NaN</td>\n",
       "    </tr>\n",
       "    <tr>\n",
       "      <th>6</th>\n",
       "      <td>0.720638</td>\n",
       "      <td>0.269161</td>\n",
       "      <td>0.382551</td>\n",
       "      <td>0.274263</td>\n",
       "      <td>0.398200</td>\n",
       "      <td>NaN</td>\n",
       "      <td>NaN</td>\n",
       "      <td>NaN</td>\n",
       "      <td>NaN</td>\n",
       "      <td>NaN</td>\n",
       "    </tr>\n",
       "    <tr>\n",
       "      <th>7</th>\n",
       "      <td>0.393131</td>\n",
       "      <td>0.022682</td>\n",
       "      <td>0.341046</td>\n",
       "      <td>0.551208</td>\n",
       "      <td>0.414696</td>\n",
       "      <td>NaN</td>\n",
       "      <td>NaN</td>\n",
       "      <td>NaN</td>\n",
       "      <td>NaN</td>\n",
       "      <td>NaN</td>\n",
       "    </tr>\n",
       "    <tr>\n",
       "      <th>8</th>\n",
       "      <td>0.961893</td>\n",
       "      <td>0.384181</td>\n",
       "      <td>0.476470</td>\n",
       "      <td>0.131453</td>\n",
       "      <td>0.738039</td>\n",
       "      <td>NaN</td>\n",
       "      <td>NaN</td>\n",
       "      <td>NaN</td>\n",
       "      <td>NaN</td>\n",
       "      <td>NaN</td>\n",
       "    </tr>\n",
       "    <tr>\n",
       "      <th>9</th>\n",
       "      <td>0.747526</td>\n",
       "      <td>0.030247</td>\n",
       "      <td>0.876620</td>\n",
       "      <td>0.664549</td>\n",
       "      <td>0.223322</td>\n",
       "      <td>NaN</td>\n",
       "      <td>NaN</td>\n",
       "      <td>NaN</td>\n",
       "      <td>NaN</td>\n",
       "      <td>NaN</td>\n",
       "    </tr>\n",
       "  </tbody>\n",
       "</table>\n",
       "</div>"
      ],
      "text/plain": [
       "          A         B         C         D         E         A         B  \\\n",
       "0  0.712352  0.193029  0.244584  0.899415  0.616184  0.199448  0.640729   \n",
       "1  0.545506  0.621864  0.369646  0.097115  0.993448  0.187651  0.898638   \n",
       "2  0.254841  0.918163  0.290843  0.830499  0.500927  0.615692  0.872717   \n",
       "3  0.402794  0.735437  0.090214  0.524410  0.687651  0.317910  0.481638   \n",
       "4  0.752447  0.616454  0.535175  0.556993  0.505008  0.411473  0.447779   \n",
       "5  0.307763  0.800903  0.033565  0.238134  0.060355       NaN       NaN   \n",
       "6  0.720638  0.269161  0.382551  0.274263  0.398200       NaN       NaN   \n",
       "7  0.393131  0.022682  0.341046  0.551208  0.414696       NaN       NaN   \n",
       "8  0.961893  0.384181  0.476470  0.131453  0.738039       NaN       NaN   \n",
       "9  0.747526  0.030247  0.876620  0.664549  0.223322       NaN       NaN   \n",
       "\n",
       "          C         D         E  \n",
       "0  0.338201  0.325400  0.560023  \n",
       "1  0.748545  0.615809  0.205943  \n",
       "2  0.684638  0.098170  0.708878  \n",
       "3  0.622188  0.585283  0.590491  \n",
       "4  0.760611  0.162179  0.368231  \n",
       "5       NaN       NaN       NaN  \n",
       "6       NaN       NaN       NaN  \n",
       "7       NaN       NaN       NaN  \n",
       "8       NaN       NaN       NaN  \n",
       "9       NaN       NaN       NaN  "
      ]
     },
     "execution_count": 47,
     "metadata": {},
     "output_type": "execute_result"
    }
   ],
   "source": [
    "# marge the dataset column wise\n",
    "pd.concat([df_1,df_2],axis=1)"
   ]
  },
  {
   "cell_type": "markdown",
   "id": "805ffd10",
   "metadata": {},
   "source": [
    "## Merge funtion in pandas\n",
    "pandas merge: DataFrame joining, data merging, combining data, database-style merging, data integration."
   ]
  },
  {
   "cell_type": "code",
   "execution_count": 48,
   "id": "45152c5c",
   "metadata": {},
   "outputs": [
    {
     "data": {
      "text/html": [
       "<div>\n",
       "<style scoped>\n",
       "    .dataframe tbody tr th:only-of-type {\n",
       "        vertical-align: middle;\n",
       "    }\n",
       "\n",
       "    .dataframe tbody tr th {\n",
       "        vertical-align: top;\n",
       "    }\n",
       "\n",
       "    .dataframe thead th {\n",
       "        text-align: right;\n",
       "    }\n",
       "</style>\n",
       "<table border=\"1\" class=\"dataframe\">\n",
       "  <thead>\n",
       "    <tr style=\"text-align: right;\">\n",
       "      <th></th>\n",
       "      <th>Name</th>\n",
       "      <th>Salary</th>\n",
       "    </tr>\n",
       "  </thead>\n",
       "  <tbody>\n",
       "    <tr>\n",
       "      <th>0</th>\n",
       "      <td>a</td>\n",
       "      <td>1000</td>\n",
       "    </tr>\n",
       "    <tr>\n",
       "      <th>1</th>\n",
       "      <td>b</td>\n",
       "      <td>2000</td>\n",
       "    </tr>\n",
       "    <tr>\n",
       "      <th>2</th>\n",
       "      <td>c</td>\n",
       "      <td>3000</td>\n",
       "    </tr>\n",
       "    <tr>\n",
       "      <th>3</th>\n",
       "      <td>d</td>\n",
       "      <td>5000</td>\n",
       "    </tr>\n",
       "  </tbody>\n",
       "</table>\n",
       "</div>"
      ],
      "text/plain": [
       "  Name  Salary\n",
       "0    a    1000\n",
       "1    b    2000\n",
       "2    c    3000\n",
       "3    d    5000"
      ]
     },
     "execution_count": 48,
     "metadata": {},
     "output_type": "execute_result"
    }
   ],
   "source": [
    "# creathe df1 dataset and df2 dataset\n",
    "df1 = pd.DataFrame({'Name': ['a', 'b', 'c', 'd'],\n",
    "                    'Salary': [1000, 2000, 3000, 5000]})\n",
    "df2 = pd.DataFrame({'Name': ['a', 'b', 'c', 'd'],\n",
    "                    'Salary': [5500, 6500, 7500, 8500]})\n",
    "\n",
    "df1"
   ]
  },
  {
   "cell_type": "code",
   "execution_count": 49,
   "id": "e56857b2",
   "metadata": {},
   "outputs": [
    {
     "data": {
      "text/html": [
       "<div>\n",
       "<style scoped>\n",
       "    .dataframe tbody tr th:only-of-type {\n",
       "        vertical-align: middle;\n",
       "    }\n",
       "\n",
       "    .dataframe tbody tr th {\n",
       "        vertical-align: top;\n",
       "    }\n",
       "\n",
       "    .dataframe thead th {\n",
       "        text-align: right;\n",
       "    }\n",
       "</style>\n",
       "<table border=\"1\" class=\"dataframe\">\n",
       "  <thead>\n",
       "    <tr style=\"text-align: right;\">\n",
       "      <th></th>\n",
       "      <th>Name</th>\n",
       "      <th>Salary</th>\n",
       "    </tr>\n",
       "  </thead>\n",
       "  <tbody>\n",
       "    <tr>\n",
       "      <th>0</th>\n",
       "      <td>a</td>\n",
       "      <td>5500</td>\n",
       "    </tr>\n",
       "    <tr>\n",
       "      <th>1</th>\n",
       "      <td>b</td>\n",
       "      <td>6500</td>\n",
       "    </tr>\n",
       "    <tr>\n",
       "      <th>2</th>\n",
       "      <td>c</td>\n",
       "      <td>7500</td>\n",
       "    </tr>\n",
       "    <tr>\n",
       "      <th>3</th>\n",
       "      <td>d</td>\n",
       "      <td>8500</td>\n",
       "    </tr>\n",
       "  </tbody>\n",
       "</table>\n",
       "</div>"
      ],
      "text/plain": [
       "  Name  Salary\n",
       "0    a    5500\n",
       "1    b    6500\n",
       "2    c    7500\n",
       "3    d    8500"
      ]
     },
     "execution_count": 49,
     "metadata": {},
     "output_type": "execute_result"
    }
   ],
   "source": [
    "df2 # read_dataset"
   ]
  },
  {
   "cell_type": "code",
   "execution_count": 50,
   "id": "bb137f75",
   "metadata": {},
   "outputs": [
    {
     "data": {
      "text/html": [
       "<div>\n",
       "<style scoped>\n",
       "    .dataframe tbody tr th:only-of-type {\n",
       "        vertical-align: middle;\n",
       "    }\n",
       "\n",
       "    .dataframe tbody tr th {\n",
       "        vertical-align: top;\n",
       "    }\n",
       "\n",
       "    .dataframe thead th {\n",
       "        text-align: right;\n",
       "    }\n",
       "</style>\n",
       "<table border=\"1\" class=\"dataframe\">\n",
       "  <thead>\n",
       "    <tr style=\"text-align: right;\">\n",
       "      <th></th>\n",
       "      <th>Name</th>\n",
       "      <th>Salary_x</th>\n",
       "      <th>Salary_y</th>\n",
       "    </tr>\n",
       "  </thead>\n",
       "  <tbody>\n",
       "    <tr>\n",
       "      <th>0</th>\n",
       "      <td>a</td>\n",
       "      <td>1000</td>\n",
       "      <td>5500</td>\n",
       "    </tr>\n",
       "    <tr>\n",
       "      <th>1</th>\n",
       "      <td>b</td>\n",
       "      <td>2000</td>\n",
       "      <td>6500</td>\n",
       "    </tr>\n",
       "    <tr>\n",
       "      <th>2</th>\n",
       "      <td>c</td>\n",
       "      <td>3000</td>\n",
       "      <td>7500</td>\n",
       "    </tr>\n",
       "    <tr>\n",
       "      <th>3</th>\n",
       "      <td>d</td>\n",
       "      <td>5000</td>\n",
       "      <td>8500</td>\n",
       "    </tr>\n",
       "  </tbody>\n",
       "</table>\n",
       "</div>"
      ],
      "text/plain": [
       "  Name  Salary_x  Salary_y\n",
       "0    a      1000      5500\n",
       "1    b      2000      6500\n",
       "2    c      3000      7500\n",
       "3    d      5000      8500"
      ]
     },
     "execution_count": 50,
     "metadata": {},
     "output_type": "execute_result"
    }
   ],
   "source": [
    "## first mathod joind the dataset like left to right columns wise\n",
    "marge_by_name = df1.merge(df2,left_on=\"Name\",right_on=\"Name\")\n",
    "marge_by_name"
   ]
  },
  {
   "cell_type": "code",
   "execution_count": 51,
   "id": "44a80bbb",
   "metadata": {},
   "outputs": [
    {
     "data": {
      "text/html": [
       "<div>\n",
       "<style scoped>\n",
       "    .dataframe tbody tr th:only-of-type {\n",
       "        vertical-align: middle;\n",
       "    }\n",
       "\n",
       "    .dataframe tbody tr th {\n",
       "        vertical-align: top;\n",
       "    }\n",
       "\n",
       "    .dataframe thead th {\n",
       "        text-align: right;\n",
       "    }\n",
       "</style>\n",
       "<table border=\"1\" class=\"dataframe\">\n",
       "  <thead>\n",
       "    <tr style=\"text-align: right;\">\n",
       "      <th></th>\n",
       "      <th>Name_x</th>\n",
       "      <th>Salary_x</th>\n",
       "      <th>Name_y</th>\n",
       "      <th>Salary_y</th>\n",
       "    </tr>\n",
       "  </thead>\n",
       "  <tbody>\n",
       "    <tr>\n",
       "      <th>0</th>\n",
       "      <td>a</td>\n",
       "      <td>1000</td>\n",
       "      <td>a</td>\n",
       "      <td>5500</td>\n",
       "    </tr>\n",
       "    <tr>\n",
       "      <th>1</th>\n",
       "      <td>b</td>\n",
       "      <td>2000</td>\n",
       "      <td>b</td>\n",
       "      <td>6500</td>\n",
       "    </tr>\n",
       "    <tr>\n",
       "      <th>2</th>\n",
       "      <td>c</td>\n",
       "      <td>3000</td>\n",
       "      <td>c</td>\n",
       "      <td>7500</td>\n",
       "    </tr>\n",
       "    <tr>\n",
       "      <th>3</th>\n",
       "      <td>d</td>\n",
       "      <td>5000</td>\n",
       "      <td>d</td>\n",
       "      <td>8500</td>\n",
       "    </tr>\n",
       "  </tbody>\n",
       "</table>\n",
       "</div>"
      ],
      "text/plain": [
       "  Name_x  Salary_x Name_y  Salary_y\n",
       "0      a      1000      a      5500\n",
       "1      b      2000      b      6500\n",
       "2      c      3000      c      7500\n",
       "3      d      5000      d      8500"
      ]
     },
     "execution_count": 51,
     "metadata": {},
     "output_type": "execute_result"
    }
   ],
   "source": [
    "## second method joind the dataset like left_index to right_index wise\n",
    "marge_index_wise = df1.merge(df2,right_index=True,left_index=True)\n",
    "marge_index_wise"
   ]
  },
  {
   "cell_type": "code",
   "execution_count": 52,
   "id": "e07ef312",
   "metadata": {},
   "outputs": [
    {
     "data": {
      "text/html": [
       "<div>\n",
       "<style scoped>\n",
       "    .dataframe tbody tr th:only-of-type {\n",
       "        vertical-align: middle;\n",
       "    }\n",
       "\n",
       "    .dataframe tbody tr th {\n",
       "        vertical-align: top;\n",
       "    }\n",
       "\n",
       "    .dataframe thead th {\n",
       "        text-align: right;\n",
       "    }\n",
       "</style>\n",
       "<table border=\"1\" class=\"dataframe\">\n",
       "  <thead>\n",
       "    <tr style=\"text-align: right;\">\n",
       "      <th></th>\n",
       "      <th>Name</th>\n",
       "      <th>Salary_x</th>\n",
       "      <th>Salary_y</th>\n",
       "    </tr>\n",
       "  </thead>\n",
       "  <tbody>\n",
       "    <tr>\n",
       "      <th>0</th>\n",
       "      <td>a</td>\n",
       "      <td>1000</td>\n",
       "      <td>5500</td>\n",
       "    </tr>\n",
       "    <tr>\n",
       "      <th>1</th>\n",
       "      <td>b</td>\n",
       "      <td>2000</td>\n",
       "      <td>6500</td>\n",
       "    </tr>\n",
       "    <tr>\n",
       "      <th>2</th>\n",
       "      <td>c</td>\n",
       "      <td>3000</td>\n",
       "      <td>7500</td>\n",
       "    </tr>\n",
       "    <tr>\n",
       "      <th>3</th>\n",
       "      <td>d</td>\n",
       "      <td>5000</td>\n",
       "      <td>8500</td>\n",
       "    </tr>\n",
       "  </tbody>\n",
       "</table>\n",
       "</div>"
      ],
      "text/plain": [
       "  Name  Salary_x  Salary_y\n",
       "0    a      1000      5500\n",
       "1    b      2000      6500\n",
       "2    c      3000      7500\n",
       "3    d      5000      8500"
      ]
     },
     "execution_count": 52,
     "metadata": {},
     "output_type": "execute_result"
    }
   ],
   "source": [
    "## 3  method joind the dataset inner join wise\n",
    "marge_inner = df1.merge(df2,how=\"inner\",on=\"Name\")\n",
    "marge_inner"
   ]
  },
  {
   "cell_type": "code",
   "execution_count": 53,
   "id": "d02175e1",
   "metadata": {},
   "outputs": [
    {
     "data": {
      "text/html": [
       "<div>\n",
       "<style scoped>\n",
       "    .dataframe tbody tr th:only-of-type {\n",
       "        vertical-align: middle;\n",
       "    }\n",
       "\n",
       "    .dataframe tbody tr th {\n",
       "        vertical-align: top;\n",
       "    }\n",
       "\n",
       "    .dataframe thead th {\n",
       "        text-align: right;\n",
       "    }\n",
       "</style>\n",
       "<table border=\"1\" class=\"dataframe\">\n",
       "  <thead>\n",
       "    <tr style=\"text-align: right;\">\n",
       "      <th></th>\n",
       "      <th>Name</th>\n",
       "      <th>SalaryA</th>\n",
       "      <th>SalaryB</th>\n",
       "    </tr>\n",
       "  </thead>\n",
       "  <tbody>\n",
       "    <tr>\n",
       "      <th>0</th>\n",
       "      <td>a</td>\n",
       "      <td>1000</td>\n",
       "      <td>5500</td>\n",
       "    </tr>\n",
       "    <tr>\n",
       "      <th>1</th>\n",
       "      <td>b</td>\n",
       "      <td>2000</td>\n",
       "      <td>6500</td>\n",
       "    </tr>\n",
       "    <tr>\n",
       "      <th>2</th>\n",
       "      <td>c</td>\n",
       "      <td>3000</td>\n",
       "      <td>7500</td>\n",
       "    </tr>\n",
       "    <tr>\n",
       "      <th>3</th>\n",
       "      <td>d</td>\n",
       "      <td>5000</td>\n",
       "      <td>8500</td>\n",
       "    </tr>\n",
       "  </tbody>\n",
       "</table>\n",
       "</div>"
      ],
      "text/plain": [
       "  Name  SalaryA  SalaryB\n",
       "0    a     1000     5500\n",
       "1    b     2000     6500\n",
       "2    c     3000     7500\n",
       "3    d     5000     8500"
      ]
     },
     "execution_count": 53,
     "metadata": {},
     "output_type": "execute_result"
    }
   ],
   "source": [
    "## marge and change the header name used suffixes parmater\n",
    "marge = df1.merge(df2,left_on=\"Name\",right_on=\"Name\",suffixes=(\"A\",\"B\"))\n",
    "marge"
   ]
  },
  {
   "cell_type": "code",
   "execution_count": 54,
   "id": "30bdf7fd",
   "metadata": {},
   "outputs": [],
   "source": [
    "## save csv file \n",
    "marge.to_csv(\"Employee_salary\")"
   ]
  },
  {
   "cell_type": "markdown",
   "id": "796e5210",
   "metadata": {},
   "source": [
    "### pandas read_csv(): \n",
    "DataFrame CSV file reading, data loading, data ingestion, data import."
   ]
  },
  {
   "cell_type": "code",
   "execution_count": 55,
   "id": "3884216d",
   "metadata": {},
   "outputs": [
    {
     "data": {
      "text/html": [
       "<div>\n",
       "<style scoped>\n",
       "    .dataframe tbody tr th:only-of-type {\n",
       "        vertical-align: middle;\n",
       "    }\n",
       "\n",
       "    .dataframe tbody tr th {\n",
       "        vertical-align: top;\n",
       "    }\n",
       "\n",
       "    .dataframe thead th {\n",
       "        text-align: right;\n",
       "    }\n",
       "</style>\n",
       "<table border=\"1\" class=\"dataframe\">\n",
       "  <thead>\n",
       "    <tr style=\"text-align: right;\">\n",
       "      <th></th>\n",
       "      <th>Row ID</th>\n",
       "      <th>Order ID</th>\n",
       "      <th>Order Date</th>\n",
       "      <th>Ship Date</th>\n",
       "      <th>Ship Mode</th>\n",
       "      <th>Customer ID</th>\n",
       "      <th>Customer Name</th>\n",
       "      <th>Segment</th>\n",
       "      <th>Country</th>\n",
       "      <th>City</th>\n",
       "      <th>State</th>\n",
       "      <th>Postal Code</th>\n",
       "      <th>Region</th>\n",
       "      <th>Product ID</th>\n",
       "      <th>Category</th>\n",
       "      <th>Sub-Category</th>\n",
       "      <th>Product Name</th>\n",
       "      <th>Sales</th>\n",
       "    </tr>\n",
       "  </thead>\n",
       "  <tbody>\n",
       "    <tr>\n",
       "      <th>0</th>\n",
       "      <td>1</td>\n",
       "      <td>CA-2017-152156</td>\n",
       "      <td>08-11-2017</td>\n",
       "      <td>11-11-2017</td>\n",
       "      <td>Second Class</td>\n",
       "      <td>CG-12520</td>\n",
       "      <td>Claire Gute</td>\n",
       "      <td>Consumer</td>\n",
       "      <td>United States</td>\n",
       "      <td>Henderson</td>\n",
       "      <td>Kentucky</td>\n",
       "      <td>42420.0</td>\n",
       "      <td>South</td>\n",
       "      <td>FUR-BO-10001798</td>\n",
       "      <td>Furniture</td>\n",
       "      <td>Bookcases</td>\n",
       "      <td>Bush Somerset Collection Bookcase</td>\n",
       "      <td>261.9600</td>\n",
       "    </tr>\n",
       "    <tr>\n",
       "      <th>1</th>\n",
       "      <td>2</td>\n",
       "      <td>CA-2017-152156</td>\n",
       "      <td>08-11-2017</td>\n",
       "      <td>11-11-2017</td>\n",
       "      <td>Second Class</td>\n",
       "      <td>CG-12520</td>\n",
       "      <td>Claire Gute</td>\n",
       "      <td>Consumer</td>\n",
       "      <td>United States</td>\n",
       "      <td>Henderson</td>\n",
       "      <td>Kentucky</td>\n",
       "      <td>42420.0</td>\n",
       "      <td>South</td>\n",
       "      <td>FUR-CH-10000454</td>\n",
       "      <td>Furniture</td>\n",
       "      <td>Chairs</td>\n",
       "      <td>Hon Deluxe Fabric Upholstered Stacking Chairs,...</td>\n",
       "      <td>731.9400</td>\n",
       "    </tr>\n",
       "    <tr>\n",
       "      <th>2</th>\n",
       "      <td>3</td>\n",
       "      <td>CA-2017-138688</td>\n",
       "      <td>12-06-2017</td>\n",
       "      <td>16-06-2017</td>\n",
       "      <td>Second Class</td>\n",
       "      <td>DV-13045</td>\n",
       "      <td>Darrin Van Huff</td>\n",
       "      <td>Corporate</td>\n",
       "      <td>United States</td>\n",
       "      <td>Los Angeles</td>\n",
       "      <td>California</td>\n",
       "      <td>90036.0</td>\n",
       "      <td>West</td>\n",
       "      <td>OFF-LA-10000240</td>\n",
       "      <td>Office Supplies</td>\n",
       "      <td>Labels</td>\n",
       "      <td>Self-Adhesive Address Labels for Typewriters b...</td>\n",
       "      <td>14.6200</td>\n",
       "    </tr>\n",
       "    <tr>\n",
       "      <th>3</th>\n",
       "      <td>4</td>\n",
       "      <td>US-2016-108966</td>\n",
       "      <td>11-10-2016</td>\n",
       "      <td>18-10-2016</td>\n",
       "      <td>Standard Class</td>\n",
       "      <td>SO-20335</td>\n",
       "      <td>Sean O'Donnell</td>\n",
       "      <td>Consumer</td>\n",
       "      <td>United States</td>\n",
       "      <td>Fort Lauderdale</td>\n",
       "      <td>Florida</td>\n",
       "      <td>33311.0</td>\n",
       "      <td>South</td>\n",
       "      <td>FUR-TA-10000577</td>\n",
       "      <td>Furniture</td>\n",
       "      <td>Tables</td>\n",
       "      <td>Bretford CR4500 Series Slim Rectangular Table</td>\n",
       "      <td>957.5775</td>\n",
       "    </tr>\n",
       "    <tr>\n",
       "      <th>4</th>\n",
       "      <td>5</td>\n",
       "      <td>US-2016-108966</td>\n",
       "      <td>11-10-2016</td>\n",
       "      <td>18-10-2016</td>\n",
       "      <td>Standard Class</td>\n",
       "      <td>SO-20335</td>\n",
       "      <td>Sean O'Donnell</td>\n",
       "      <td>Consumer</td>\n",
       "      <td>United States</td>\n",
       "      <td>Fort Lauderdale</td>\n",
       "      <td>Florida</td>\n",
       "      <td>33311.0</td>\n",
       "      <td>South</td>\n",
       "      <td>OFF-ST-10000760</td>\n",
       "      <td>Office Supplies</td>\n",
       "      <td>Storage</td>\n",
       "      <td>Eldon Fold 'N Roll Cart System</td>\n",
       "      <td>22.3680</td>\n",
       "    </tr>\n",
       "  </tbody>\n",
       "</table>\n",
       "</div>"
      ],
      "text/plain": [
       "   Row ID        Order ID  Order Date   Ship Date       Ship Mode Customer ID  \\\n",
       "0       1  CA-2017-152156  08-11-2017  11-11-2017    Second Class    CG-12520   \n",
       "1       2  CA-2017-152156  08-11-2017  11-11-2017    Second Class    CG-12520   \n",
       "2       3  CA-2017-138688  12-06-2017  16-06-2017    Second Class    DV-13045   \n",
       "3       4  US-2016-108966  11-10-2016  18-10-2016  Standard Class    SO-20335   \n",
       "4       5  US-2016-108966  11-10-2016  18-10-2016  Standard Class    SO-20335   \n",
       "\n",
       "     Customer Name    Segment        Country             City       State  \\\n",
       "0      Claire Gute   Consumer  United States        Henderson    Kentucky   \n",
       "1      Claire Gute   Consumer  United States        Henderson    Kentucky   \n",
       "2  Darrin Van Huff  Corporate  United States      Los Angeles  California   \n",
       "3   Sean O'Donnell   Consumer  United States  Fort Lauderdale     Florida   \n",
       "4   Sean O'Donnell   Consumer  United States  Fort Lauderdale     Florida   \n",
       "\n",
       "   Postal Code Region       Product ID         Category Sub-Category  \\\n",
       "0      42420.0  South  FUR-BO-10001798        Furniture    Bookcases   \n",
       "1      42420.0  South  FUR-CH-10000454        Furniture       Chairs   \n",
       "2      90036.0   West  OFF-LA-10000240  Office Supplies       Labels   \n",
       "3      33311.0  South  FUR-TA-10000577        Furniture       Tables   \n",
       "4      33311.0  South  OFF-ST-10000760  Office Supplies      Storage   \n",
       "\n",
       "                                        Product Name     Sales  \n",
       "0                  Bush Somerset Collection Bookcase  261.9600  \n",
       "1  Hon Deluxe Fabric Upholstered Stacking Chairs,...  731.9400  \n",
       "2  Self-Adhesive Address Labels for Typewriters b...   14.6200  \n",
       "3      Bretford CR4500 Series Slim Rectangular Table  957.5775  \n",
       "4                     Eldon Fold 'N Roll Cart System   22.3680  "
      ]
     },
     "execution_count": 55,
     "metadata": {},
     "output_type": "execute_result"
    }
   ],
   "source": [
    "## read the dataset\n",
    "read_data = pd.read_csv(r\"C:\\Users\\Dell\\Downloads\\sales data\\Superstore_sales.csv\")\n",
    "read_data.head()"
   ]
  },
  {
   "cell_type": "code",
   "execution_count": 56,
   "id": "8e56ace6",
   "metadata": {},
   "outputs": [
    {
     "data": {
      "text/plain": [
       "Index(['Row ID', 'Order ID', 'Order Date', 'Ship Date', 'Ship Mode',\n",
       "       'Customer ID', 'Customer Name', 'Segment', 'Country', 'City', 'State',\n",
       "       'Postal Code', 'Region', 'Product ID', 'Category', 'Sub-Category',\n",
       "       'Product Name', 'Sales'],\n",
       "      dtype='object')"
      ]
     },
     "execution_count": 56,
     "metadata": {},
     "output_type": "execute_result"
    }
   ],
   "source": [
    "read_data.columns #pandas columns: DataFrame column names, data variables, data features, data attributes."
   ]
  },
  {
   "cell_type": "code",
   "execution_count": 57,
   "id": "03cf07f6",
   "metadata": {},
   "outputs": [
    {
     "data": {
      "text/plain": [
       "Row ID           9800\n",
       "Order ID         4922\n",
       "Order Date       1230\n",
       "Ship Date        1326\n",
       "Ship Mode           4\n",
       "Customer ID       793\n",
       "Customer Name     793\n",
       "Segment             3\n",
       "Country             1\n",
       "City              529\n",
       "State              49\n",
       "Postal Code       626\n",
       "Region              4\n",
       "Product ID       1861\n",
       "Category            3\n",
       "Sub-Category       17\n",
       "Product Name     1849\n",
       "Sales            5756\n",
       "dtype: int64"
      ]
     },
     "execution_count": 57,
     "metadata": {},
     "output_type": "execute_result"
    }
   ],
   "source": [
    "# pandas nunique: Count of unique values in DataFrame, distinct values, data cardinality, data uniqueness.\n",
    "read_data.nunique() "
   ]
  },
  {
   "cell_type": "code",
   "execution_count": 58,
   "id": "50ce5f0f",
   "metadata": {},
   "outputs": [
    {
     "data": {
      "text/html": [
       "<div>\n",
       "<style scoped>\n",
       "    .dataframe tbody tr th:only-of-type {\n",
       "        vertical-align: middle;\n",
       "    }\n",
       "\n",
       "    .dataframe tbody tr th {\n",
       "        vertical-align: top;\n",
       "    }\n",
       "\n",
       "    .dataframe thead th {\n",
       "        text-align: right;\n",
       "    }\n",
       "</style>\n",
       "<table border=\"1\" class=\"dataframe\">\n",
       "  <thead>\n",
       "    <tr style=\"text-align: right;\">\n",
       "      <th></th>\n",
       "      <th>Order Date</th>\n",
       "      <th>Ship Date</th>\n",
       "      <th>Ship Mode</th>\n",
       "      <th>Customer Name</th>\n",
       "      <th>Segment</th>\n",
       "      <th>City</th>\n",
       "      <th>State</th>\n",
       "      <th>Postal Code</th>\n",
       "      <th>Region</th>\n",
       "      <th>Product ID</th>\n",
       "      <th>Category</th>\n",
       "      <th>Sub-Category</th>\n",
       "      <th>Product Name</th>\n",
       "      <th>Sales</th>\n",
       "    </tr>\n",
       "  </thead>\n",
       "  <tbody>\n",
       "    <tr>\n",
       "      <th>0</th>\n",
       "      <td>08-11-2017</td>\n",
       "      <td>11-11-2017</td>\n",
       "      <td>Second Class</td>\n",
       "      <td>Claire Gute</td>\n",
       "      <td>Consumer</td>\n",
       "      <td>Henderson</td>\n",
       "      <td>Kentucky</td>\n",
       "      <td>42420.0</td>\n",
       "      <td>South</td>\n",
       "      <td>FUR-BO-10001798</td>\n",
       "      <td>Furniture</td>\n",
       "      <td>Bookcases</td>\n",
       "      <td>Bush Somerset Collection Bookcase</td>\n",
       "      <td>261.96</td>\n",
       "    </tr>\n",
       "    <tr>\n",
       "      <th>1</th>\n",
       "      <td>08-11-2017</td>\n",
       "      <td>11-11-2017</td>\n",
       "      <td>Second Class</td>\n",
       "      <td>Claire Gute</td>\n",
       "      <td>Consumer</td>\n",
       "      <td>Henderson</td>\n",
       "      <td>Kentucky</td>\n",
       "      <td>42420.0</td>\n",
       "      <td>South</td>\n",
       "      <td>FUR-CH-10000454</td>\n",
       "      <td>Furniture</td>\n",
       "      <td>Chairs</td>\n",
       "      <td>Hon Deluxe Fabric Upholstered Stacking Chairs,...</td>\n",
       "      <td>731.94</td>\n",
       "    </tr>\n",
       "  </tbody>\n",
       "</table>\n",
       "</div>"
      ],
      "text/plain": [
       "   Order Date   Ship Date     Ship Mode Customer Name   Segment       City  \\\n",
       "0  08-11-2017  11-11-2017  Second Class   Claire Gute  Consumer  Henderson   \n",
       "1  08-11-2017  11-11-2017  Second Class   Claire Gute  Consumer  Henderson   \n",
       "\n",
       "      State  Postal Code Region       Product ID   Category Sub-Category  \\\n",
       "0  Kentucky      42420.0  South  FUR-BO-10001798  Furniture    Bookcases   \n",
       "1  Kentucky      42420.0  South  FUR-CH-10000454  Furniture       Chairs   \n",
       "\n",
       "                                        Product Name   Sales  \n",
       "0                  Bush Somerset Collection Bookcase  261.96  \n",
       "1  Hon Deluxe Fabric Upholstered Stacking Chairs,...  731.94  "
      ]
     },
     "execution_count": 58,
     "metadata": {},
     "output_type": "execute_result"
    }
   ],
   "source": [
    "# pandas drop: DataFrame data removal, row/column deletion, data dropping, data exclusion.\n",
    "\n",
    "final_df = read_data.drop(columns=[\"Row ID\",\"Customer ID\",\"Country\",\"Order ID\"],axis=1)\n",
    "final_df.head(2)"
   ]
  },
  {
   "cell_type": "code",
   "execution_count": 59,
   "id": "6e4d2078",
   "metadata": {},
   "outputs": [
    {
     "data": {
      "text/plain": [
       "(9804, 14)"
      ]
     },
     "execution_count": 59,
     "metadata": {},
     "output_type": "execute_result"
    }
   ],
   "source": [
    "# check the dataset shape like columns and row\n",
    "final_df.shape"
   ]
  },
  {
   "cell_type": "code",
   "execution_count": 60,
   "id": "37eb9aaf",
   "metadata": {},
   "outputs": [
    {
     "data": {
      "text/plain": [
       "137256"
      ]
     },
     "execution_count": 60,
     "metadata": {},
     "output_type": "execute_result"
    }
   ],
   "source": [
    "# check the dataset size\n",
    "final_df.size"
   ]
  },
  {
   "cell_type": "markdown",
   "id": "75006f15",
   "metadata": {},
   "source": [
    "# Handling missing values in pandas \n",
    "1. can be done using methods like dropna(), fillna(), interpolate(), ffill(), bfill(), fillna with groupby, dropna with thresholds, or advanced imputation techniques, depending on data and analysis requirements.\n",
    "2. set the columns of like (min,mode,median)"
   ]
  },
  {
   "cell_type": "code",
   "execution_count": 65,
   "id": "a3a7de80",
   "metadata": {},
   "outputs": [
    {
     "data": {
      "text/plain": [
       "Order Date        0\n",
       "Ship Date         0\n",
       "Ship Mode         0\n",
       "Customer Name     0\n",
       "Segment           0\n",
       "City              1\n",
       "State             0\n",
       "Postal Code      13\n",
       "Region            0\n",
       "Product ID        0\n",
       "Category          1\n",
       "Sub-Category      0\n",
       "Product Name      0\n",
       "Sales             2\n",
       "dtype: int64"
      ]
     },
     "execution_count": 65,
     "metadata": {},
     "output_type": "execute_result"
    }
   ],
   "source": [
    "# pandas isna: DataFrame missing data detection, null/NaN values, data validation, data quality.\n",
    "final_df.isna().sum()"
   ]
  },
  {
   "cell_type": "markdown",
   "id": "2a8e2cf6",
   "metadata": {},
   "source": [
    " pandas mean, median, mode, max, min: DataFrame statistical measures for central tendency, data distribution, and data summary statistics, used for data analysis and summary."
   ]
  },
  {
   "cell_type": "code",
   "execution_count": 73,
   "id": "93641396",
   "metadata": {},
   "outputs": [
    {
     "data": {
      "text/plain": [
       "'New York City'"
      ]
     },
     "execution_count": 73,
     "metadata": {},
     "output_type": "execute_result"
    }
   ],
   "source": [
    "final_df[\"City\"].mode()[0] #pandas mode: DataFrame most frequent value(s), data mode, data occurrence count, data analysis."
   ]
  },
  {
   "cell_type": "code",
   "execution_count": 74,
   "id": "e3007d76",
   "metadata": {},
   "outputs": [],
   "source": [
    "final_df[\"City\"] = final_df[\"City\"].fillna(final_df[\"City\"].mode()[0]) "
   ]
  },
  {
   "cell_type": "code",
   "execution_count": 75,
   "id": "bd5cb086",
   "metadata": {},
   "outputs": [
    {
     "data": {
      "text/plain": [
       "58103.0"
      ]
     },
     "execution_count": 75,
     "metadata": {},
     "output_type": "execute_result"
    }
   ],
   "source": [
    "#pandas median: DataFrame middle value, data median, data central tendency, data analysis.\n",
    "final_df[\"Postal Code\"].median()"
   ]
  },
  {
   "cell_type": "code",
   "execution_count": 76,
   "id": "631b2e83",
   "metadata": {},
   "outputs": [],
   "source": [
    "final_df[\"Postal Code\"] = final_df[\"Postal Code\"].fillna(final_df[\"Postal Code\"].median())"
   ]
  },
  {
   "cell_type": "code",
   "execution_count": 77,
   "id": "40ed7bd0",
   "metadata": {},
   "outputs": [
    {
     "data": {
      "text/plain": [
       "'Office Supplies'"
      ]
     },
     "execution_count": 77,
     "metadata": {},
     "output_type": "execute_result"
    }
   ],
   "source": [
    "#pandas mode: DataFrame most frequent value(s), data mode, data occurrence count, data analysis.\n",
    "final_df[\"Category\"].mode()[0]"
   ]
  },
  {
   "cell_type": "code",
   "execution_count": 78,
   "id": "c0bfad5b",
   "metadata": {},
   "outputs": [],
   "source": [
    "final_df[\"Category\"] = final_df[\"Category\"].fillna(final_df[\"Category\"].mode()[0])"
   ]
  },
  {
   "cell_type": "code",
   "execution_count": 79,
   "id": "c997abbf",
   "metadata": {},
   "outputs": [
    {
     "data": {
      "text/plain": [
       "54.376000000000005"
      ]
     },
     "execution_count": 79,
     "metadata": {},
     "output_type": "execute_result"
    }
   ],
   "source": [
    "#pandas median: DataFrame middle value, data median, data central tendency, data analysis.\n",
    "final_df[\"Sales\"].median()"
   ]
  },
  {
   "cell_type": "code",
   "execution_count": 80,
   "id": "0988a16f",
   "metadata": {},
   "outputs": [],
   "source": [
    "final_df[\"Sales\"] = final_df[\"Sales\"].fillna(final_df[\"Sales\"].median())"
   ]
  },
  {
   "cell_type": "code",
   "execution_count": 187,
   "id": "60234c7c",
   "metadata": {},
   "outputs": [
    {
     "data": {
      "text/plain": [
       "Order Date                   0\n",
       "Ship Date                    0\n",
       "Ship Mode                    0\n",
       "Customer Name                0\n",
       "Segment                      0\n",
       "City                         0\n",
       "State                        0\n",
       "Postal Code                  0\n",
       "Region                       0\n",
       "Product ID                   0\n",
       "Category                     0\n",
       "Sub-Category                 0\n",
       "Product Name                 0\n",
       "Sales                        0\n",
       "ten_percen_increage_sales    0\n",
       "dtype: int64"
      ]
     },
     "execution_count": 187,
     "metadata": {},
     "output_type": "execute_result"
    }
   ],
   "source": [
    "## after fill missing values show\n",
    "final_df.isna().sum()"
   ]
  },
  {
   "cell_type": "code",
   "execution_count": 82,
   "id": "04397410",
   "metadata": {},
   "outputs": [
    {
     "name": "stdout",
     "output_type": "stream",
     "text": [
      "<class 'pandas.core.frame.DataFrame'>\n",
      "RangeIndex: 9804 entries, 0 to 9803\n",
      "Data columns (total 14 columns):\n",
      " #   Column         Non-Null Count  Dtype  \n",
      "---  ------         --------------  -----  \n",
      " 0   Order Date     9804 non-null   object \n",
      " 1   Ship Date      9804 non-null   object \n",
      " 2   Ship Mode      9804 non-null   object \n",
      " 3   Customer Name  9804 non-null   object \n",
      " 4   Segment        9804 non-null   object \n",
      " 5   City           9804 non-null   object \n",
      " 6   State          9804 non-null   object \n",
      " 7   Postal Code    9804 non-null   float64\n",
      " 8   Region         9804 non-null   object \n",
      " 9   Product ID     9804 non-null   object \n",
      " 10  Category       9804 non-null   object \n",
      " 11  Sub-Category   9804 non-null   object \n",
      " 12  Product Name   9804 non-null   object \n",
      " 13  Sales          9804 non-null   float64\n",
      "dtypes: float64(2), object(12)\n",
      "memory usage: 1.0+ MB\n"
     ]
    }
   ],
   "source": [
    "final_df.info() #pandas info(): DataFrame summary, data information, data overview, data statistics, data details."
   ]
  },
  {
   "cell_type": "code",
   "execution_count": 83,
   "id": "5ec7422b",
   "metadata": {},
   "outputs": [],
   "source": [
    "# astype function used change dtypes like (float to int ),(str to bool)\n",
    "final_df[\"Postal Code\"] = final_df[\"Postal Code\"].astype(int) "
   ]
  },
  {
   "cell_type": "code",
   "execution_count": 86,
   "id": "ebe9f948",
   "metadata": {},
   "outputs": [
    {
     "data": {
      "text/plain": [
       "Order Date        object\n",
       "Ship Date         object\n",
       "Ship Mode         object\n",
       "Customer Name     object\n",
       "Segment           object\n",
       "City              object\n",
       "State             object\n",
       "Postal Code        int32\n",
       "Region            object\n",
       "Product ID        object\n",
       "Category          object\n",
       "Sub-Category      object\n",
       "Product Name      object\n",
       "Sales            float64\n",
       "dtype: object"
      ]
     },
     "execution_count": 86,
     "metadata": {},
     "output_type": "execute_result"
    }
   ],
   "source": [
    "## chage the dtype then showing int\n",
    "final_df.dtypes"
   ]
  },
  {
   "cell_type": "markdown",
   "id": "7b2c0969",
   "metadata": {},
   "source": [
    "## pandas describe(): \n",
    "DataFrame statistical summary, data distribution, data summary statistics, data insights."
   ]
  },
  {
   "cell_type": "code",
   "execution_count": 87,
   "id": "f9224f89",
   "metadata": {},
   "outputs": [
    {
     "data": {
      "text/html": [
       "<div>\n",
       "<style scoped>\n",
       "    .dataframe tbody tr th:only-of-type {\n",
       "        vertical-align: middle;\n",
       "    }\n",
       "\n",
       "    .dataframe tbody tr th {\n",
       "        vertical-align: top;\n",
       "    }\n",
       "\n",
       "    .dataframe thead th {\n",
       "        text-align: right;\n",
       "    }\n",
       "</style>\n",
       "<table border=\"1\" class=\"dataframe\">\n",
       "  <thead>\n",
       "    <tr style=\"text-align: right;\">\n",
       "      <th></th>\n",
       "      <th>Postal Code</th>\n",
       "      <th>Sales</th>\n",
       "    </tr>\n",
       "  </thead>\n",
       "  <tbody>\n",
       "    <tr>\n",
       "      <th>count</th>\n",
       "      <td>9804.000000</td>\n",
       "      <td>9804.000000</td>\n",
       "    </tr>\n",
       "    <tr>\n",
       "      <th>mean</th>\n",
       "      <td>55271.176663</td>\n",
       "      <td>230.673718</td>\n",
       "    </tr>\n",
       "    <tr>\n",
       "      <th>std</th>\n",
       "      <td>32017.469100</td>\n",
       "      <td>626.541219</td>\n",
       "    </tr>\n",
       "    <tr>\n",
       "      <th>min</th>\n",
       "      <td>1040.000000</td>\n",
       "      <td>0.444000</td>\n",
       "    </tr>\n",
       "    <tr>\n",
       "      <th>25%</th>\n",
       "      <td>23223.000000</td>\n",
       "      <td>17.220000</td>\n",
       "    </tr>\n",
       "    <tr>\n",
       "      <th>50%</th>\n",
       "      <td>58103.000000</td>\n",
       "      <td>54.376000</td>\n",
       "    </tr>\n",
       "    <tr>\n",
       "      <th>75%</th>\n",
       "      <td>90008.000000</td>\n",
       "      <td>210.568000</td>\n",
       "    </tr>\n",
       "    <tr>\n",
       "      <th>max</th>\n",
       "      <td>99301.000000</td>\n",
       "      <td>22638.480000</td>\n",
       "    </tr>\n",
       "  </tbody>\n",
       "</table>\n",
       "</div>"
      ],
      "text/plain": [
       "        Postal Code         Sales\n",
       "count   9804.000000   9804.000000\n",
       "mean   55271.176663    230.673718\n",
       "std    32017.469100    626.541219\n",
       "min     1040.000000      0.444000\n",
       "25%    23223.000000     17.220000\n",
       "50%    58103.000000     54.376000\n",
       "75%    90008.000000    210.568000\n",
       "max    99301.000000  22638.480000"
      ]
     },
     "execution_count": 87,
     "metadata": {},
     "output_type": "execute_result"
    }
   ],
   "source": [
    "final_df.describe()"
   ]
  },
  {
   "cell_type": "markdown",
   "id": "3d6cfade",
   "metadata": {},
   "source": [
    "### Find the insight of the dataset using same funtion like (groupby,pivot,value_counts)"
   ]
  },
  {
   "cell_type": "code",
   "execution_count": 88,
   "id": "7944dc55",
   "metadata": {},
   "outputs": [
    {
     "data": {
      "text/html": [
       "<div>\n",
       "<style scoped>\n",
       "    .dataframe tbody tr th:only-of-type {\n",
       "        vertical-align: middle;\n",
       "    }\n",
       "\n",
       "    .dataframe tbody tr th {\n",
       "        vertical-align: top;\n",
       "    }\n",
       "\n",
       "    .dataframe thead th {\n",
       "        text-align: right;\n",
       "    }\n",
       "</style>\n",
       "<table border=\"1\" class=\"dataframe\">\n",
       "  <thead>\n",
       "    <tr style=\"text-align: right;\">\n",
       "      <th></th>\n",
       "      <th>Order Date</th>\n",
       "      <th>Ship Date</th>\n",
       "      <th>Ship Mode</th>\n",
       "      <th>Customer Name</th>\n",
       "      <th>Segment</th>\n",
       "      <th>City</th>\n",
       "      <th>State</th>\n",
       "      <th>Postal Code</th>\n",
       "      <th>Region</th>\n",
       "      <th>Product ID</th>\n",
       "      <th>Category</th>\n",
       "      <th>Sub-Category</th>\n",
       "      <th>Product Name</th>\n",
       "      <th>Sales</th>\n",
       "    </tr>\n",
       "  </thead>\n",
       "  <tbody>\n",
       "    <tr>\n",
       "      <th>0</th>\n",
       "      <td>08-11-2017</td>\n",
       "      <td>11-11-2017</td>\n",
       "      <td>Second Class</td>\n",
       "      <td>Claire Gute</td>\n",
       "      <td>Consumer</td>\n",
       "      <td>Henderson</td>\n",
       "      <td>Kentucky</td>\n",
       "      <td>42420</td>\n",
       "      <td>South</td>\n",
       "      <td>FUR-BO-10001798</td>\n",
       "      <td>Furniture</td>\n",
       "      <td>Bookcases</td>\n",
       "      <td>Bush Somerset Collection Bookcase</td>\n",
       "      <td>261.96</td>\n",
       "    </tr>\n",
       "    <tr>\n",
       "      <th>1</th>\n",
       "      <td>08-11-2017</td>\n",
       "      <td>11-11-2017</td>\n",
       "      <td>Second Class</td>\n",
       "      <td>Claire Gute</td>\n",
       "      <td>Consumer</td>\n",
       "      <td>Henderson</td>\n",
       "      <td>Kentucky</td>\n",
       "      <td>42420</td>\n",
       "      <td>South</td>\n",
       "      <td>FUR-CH-10000454</td>\n",
       "      <td>Furniture</td>\n",
       "      <td>Chairs</td>\n",
       "      <td>Hon Deluxe Fabric Upholstered Stacking Chairs,...</td>\n",
       "      <td>731.94</td>\n",
       "    </tr>\n",
       "  </tbody>\n",
       "</table>\n",
       "</div>"
      ],
      "text/plain": [
       "   Order Date   Ship Date     Ship Mode Customer Name   Segment       City  \\\n",
       "0  08-11-2017  11-11-2017  Second Class   Claire Gute  Consumer  Henderson   \n",
       "1  08-11-2017  11-11-2017  Second Class   Claire Gute  Consumer  Henderson   \n",
       "\n",
       "      State  Postal Code Region       Product ID   Category Sub-Category  \\\n",
       "0  Kentucky        42420  South  FUR-BO-10001798  Furniture    Bookcases   \n",
       "1  Kentucky        42420  South  FUR-CH-10000454  Furniture       Chairs   \n",
       "\n",
       "                                        Product Name   Sales  \n",
       "0                  Bush Somerset Collection Bookcase  261.96  \n",
       "1  Hon Deluxe Fabric Upholstered Stacking Chairs,...  731.94  "
      ]
     },
     "execution_count": 88,
     "metadata": {},
     "output_type": "execute_result"
    }
   ],
   "source": [
    "final_df.head(2)"
   ]
  },
  {
   "cell_type": "code",
   "execution_count": 89,
   "id": "e505da26",
   "metadata": {},
   "outputs": [
    {
     "data": {
      "text/plain": [
       "Index(['Order Date', 'Ship Date', 'Ship Mode', 'Customer Name', 'Segment',\n",
       "       'City', 'State', 'Postal Code', 'Region', 'Product ID', 'Category',\n",
       "       'Sub-Category', 'Product Name', 'Sales'],\n",
       "      dtype='object')"
      ]
     },
     "execution_count": 89,
     "metadata": {},
     "output_type": "execute_result"
    }
   ],
   "source": [
    "## check the columns of dataset\n",
    "final_df.columns"
   ]
  },
  {
   "cell_type": "code",
   "execution_count": 90,
   "id": "1921423b",
   "metadata": {},
   "outputs": [
    {
     "data": {
      "text/plain": [
       "2261525.1287000002"
      ]
     },
     "execution_count": 90,
     "metadata": {},
     "output_type": "execute_result"
    }
   ],
   "source": [
    "## check the total sales\n",
    "final_df[\"Sales\"].sum()"
   ]
  },
  {
   "cell_type": "code",
   "execution_count": 91,
   "id": "e19521c9",
   "metadata": {},
   "outputs": [
    {
     "data": {
      "text/plain": [
       "22638.48"
      ]
     },
     "execution_count": 91,
     "metadata": {},
     "output_type": "execute_result"
    }
   ],
   "source": [
    "## check the maximum sales \n",
    "final_df[\"Sales\"].max()"
   ]
  },
  {
   "cell_type": "markdown",
   "id": "c4496495",
   "metadata": {},
   "source": [
    "## value_counts():\n",
    "DataFrame value frequency, data occurrence count, data distribution analysis, categorical data analysis."
   ]
  },
  {
   "cell_type": "code",
   "execution_count": 92,
   "id": "dcf73c03",
   "metadata": {},
   "outputs": [
    {
     "data": {
      "text/plain": [
       "West       3140\n",
       "East       2789\n",
       "Central    2277\n",
       "South      1598\n",
       "Name: Region, dtype: int64"
      ]
     },
     "execution_count": 92,
     "metadata": {},
     "output_type": "execute_result"
    }
   ],
   "source": [
    "## check the region columns values of counts\n",
    "final_df[\"Region\"].value_counts()"
   ]
  },
  {
   "cell_type": "markdown",
   "id": "73a71752",
   "metadata": {},
   "source": [
    "## groupby:\n",
    "DataFrame grouping, data aggregation, data grouping by keys, data summarization."
   ]
  },
  {
   "cell_type": "code",
   "execution_count": 95,
   "id": "9223129d",
   "metadata": {},
   "outputs": [
    {
     "data": {
      "text/plain": [
       "Region\n",
       "Central    492646.9132\n",
       "East       669543.2660\n",
       "South      389151.4590\n",
       "West       710183.4905\n",
       "Name: Sales, dtype: float64"
      ]
     },
     "execution_count": 95,
     "metadata": {},
     "output_type": "execute_result"
    }
   ],
   "source": [
    "## cehck the sales by region wise\n",
    "final_df[\"Sales\"].groupby(final_df[\"Region\"]).sum()"
   ]
  },
  {
   "cell_type": "code",
   "execution_count": 105,
   "id": "36a92b2f",
   "metadata": {},
   "outputs": [
    {
     "data": {
      "text/plain": [
       "State\n",
       "California      446270.2695\n",
       "New York        306361.1470\n",
       "Texas           168572.5322\n",
       "Washington      135206.8500\n",
       "Pennsylvania    116259.6540\n",
       "Florida          88436.5320\n",
       "Illinois         79236.5170\n",
       "Michigan         76136.0740\n",
       "Ohio             75171.8860\n",
       "Virginia         70636.7200\n",
       "Name: Sales, dtype: float64"
      ]
     },
     "execution_count": 105,
     "metadata": {},
     "output_type": "execute_result"
    }
   ],
   "source": [
    "# check the top ten state highest sales \n",
    "final_df[\"Sales\"].groupby(final_df[\"State\"]).sum().sort_values(ascending=False).head(10)"
   ]
  },
  {
   "cell_type": "code",
   "execution_count": 106,
   "id": "98e3ae86",
   "metadata": {},
   "outputs": [
    {
     "data": {
      "text/plain": [
       "State\n",
       "New Mexico              4783.522\n",
       "Iowa                    4443.560\n",
       "Idaho                   4382.486\n",
       "Kansas                  2914.310\n",
       "District of Columbia    2865.020\n",
       "Wyoming                 1603.136\n",
       "South Dakota            1315.560\n",
       "Maine                   1270.530\n",
       "West Virginia           1209.824\n",
       "North Dakota             919.910\n",
       "Name: Sales, dtype: float64"
      ]
     },
     "execution_count": 106,
     "metadata": {},
     "output_type": "execute_result"
    }
   ],
   "source": [
    "# check the top ten state lowest sales\n",
    "final_df[\"Sales\"].groupby(final_df[\"State\"]).sum().sort_values(ascending=False).tail(10)"
   ]
  },
  {
   "cell_type": "code",
   "execution_count": 117,
   "id": "fb15c063",
   "metadata": {},
   "outputs": [
    {
     "data": {
      "text/html": [
       "<div>\n",
       "<style scoped>\n",
       "    .dataframe tbody tr th:only-of-type {\n",
       "        vertical-align: middle;\n",
       "    }\n",
       "\n",
       "    .dataframe tbody tr th {\n",
       "        vertical-align: top;\n",
       "    }\n",
       "\n",
       "    .dataframe thead th {\n",
       "        text-align: right;\n",
       "    }\n",
       "</style>\n",
       "<table border=\"1\" class=\"dataframe\">\n",
       "  <thead>\n",
       "    <tr style=\"text-align: right;\">\n",
       "      <th></th>\n",
       "      <th>Segment</th>\n",
       "      <th>Sales</th>\n",
       "    </tr>\n",
       "  </thead>\n",
       "  <tbody>\n",
       "    <tr>\n",
       "      <th>0</th>\n",
       "      <td>Consumer</td>\n",
       "      <td>13999.96</td>\n",
       "    </tr>\n",
       "    <tr>\n",
       "      <th>1</th>\n",
       "      <td>Corporate</td>\n",
       "      <td>17499.95</td>\n",
       "    </tr>\n",
       "    <tr>\n",
       "      <th>2</th>\n",
       "      <td>Home Office</td>\n",
       "      <td>22638.48</td>\n",
       "    </tr>\n",
       "  </tbody>\n",
       "</table>\n",
       "</div>"
      ],
      "text/plain": [
       "       Segment     Sales\n",
       "0     Consumer  13999.96\n",
       "1    Corporate  17499.95\n",
       "2  Home Office  22638.48"
      ]
     },
     "execution_count": 117,
     "metadata": {},
     "output_type": "execute_result"
    }
   ],
   "source": [
    "## check the segment wise sales \n",
    "pd.pivot_table(data=final_df,values=[\"Sales\"],index=[\"Segment\"],aggfunc=max).reset_index()"
   ]
  },
  {
   "cell_type": "markdown",
   "id": "913bd06c",
   "metadata": {},
   "source": [
    "## pivot_table:\n",
    "DataFrame pivoting, data reshaping, data aggregation, multi-dimensional data analysis."
   ]
  },
  {
   "cell_type": "code",
   "execution_count": 118,
   "id": "7555a1e6",
   "metadata": {},
   "outputs": [
    {
     "data": {
      "text/html": [
       "<div>\n",
       "<style scoped>\n",
       "    .dataframe tbody tr th:only-of-type {\n",
       "        vertical-align: middle;\n",
       "    }\n",
       "\n",
       "    .dataframe tbody tr th {\n",
       "        vertical-align: top;\n",
       "    }\n",
       "\n",
       "    .dataframe thead th {\n",
       "        text-align: right;\n",
       "    }\n",
       "</style>\n",
       "<table border=\"1\" class=\"dataframe\">\n",
       "  <thead>\n",
       "    <tr style=\"text-align: right;\">\n",
       "      <th></th>\n",
       "      <th>Category</th>\n",
       "      <th>Sales</th>\n",
       "    </tr>\n",
       "  </thead>\n",
       "  <tbody>\n",
       "    <tr>\n",
       "      <th>0</th>\n",
       "      <td>Furniture</td>\n",
       "      <td>4416.174</td>\n",
       "    </tr>\n",
       "    <tr>\n",
       "      <th>1</th>\n",
       "      <td>Office Supplies</td>\n",
       "      <td>9892.740</td>\n",
       "    </tr>\n",
       "    <tr>\n",
       "      <th>2</th>\n",
       "      <td>Technology</td>\n",
       "      <td>22638.480</td>\n",
       "    </tr>\n",
       "  </tbody>\n",
       "</table>\n",
       "</div>"
      ],
      "text/plain": [
       "          Category      Sales\n",
       "0        Furniture   4416.174\n",
       "1  Office Supplies   9892.740\n",
       "2       Technology  22638.480"
      ]
     },
     "execution_count": 118,
     "metadata": {},
     "output_type": "execute_result"
    }
   ],
   "source": [
    "## check the categries wise sales\n",
    "pd.pivot_table(data=final_df,values=[\"Sales\"],index=[\"Category\"],aggfunc=max).reset_index()"
   ]
  },
  {
   "cell_type": "code",
   "execution_count": 121,
   "id": "1fd6fd2f",
   "metadata": {},
   "outputs": [
    {
     "data": {
      "text/html": [
       "<div>\n",
       "<style scoped>\n",
       "    .dataframe tbody tr th:only-of-type {\n",
       "        vertical-align: middle;\n",
       "    }\n",
       "\n",
       "    .dataframe tbody tr th {\n",
       "        vertical-align: top;\n",
       "    }\n",
       "\n",
       "    .dataframe thead th {\n",
       "        text-align: right;\n",
       "    }\n",
       "</style>\n",
       "<table border=\"1\" class=\"dataframe\">\n",
       "  <thead>\n",
       "    <tr style=\"text-align: right;\">\n",
       "      <th></th>\n",
       "      <th></th>\n",
       "      <th>Sales</th>\n",
       "    </tr>\n",
       "    <tr>\n",
       "      <th>Category</th>\n",
       "      <th>Region</th>\n",
       "      <th></th>\n",
       "    </tr>\n",
       "  </thead>\n",
       "  <tbody>\n",
       "    <tr>\n",
       "      <th rowspan=\"4\" valign=\"top\">Furniture</th>\n",
       "      <th>Central</th>\n",
       "      <td>159785.0630</td>\n",
       "    </tr>\n",
       "    <tr>\n",
       "      <th>East</th>\n",
       "      <td>206444.3920</td>\n",
       "    </tr>\n",
       "    <tr>\n",
       "      <th>South</th>\n",
       "      <td>116531.4800</td>\n",
       "    </tr>\n",
       "    <tr>\n",
       "      <th>West</th>\n",
       "      <td>245348.2455</td>\n",
       "    </tr>\n",
       "    <tr>\n",
       "      <th rowspan=\"4\" valign=\"top\">Office Supplies</th>\n",
       "      <th>Central</th>\n",
       "      <td>164122.6422</td>\n",
       "    </tr>\n",
       "    <tr>\n",
       "      <th>East</th>\n",
       "      <td>199940.8110</td>\n",
       "    </tr>\n",
       "    <tr>\n",
       "      <th>South</th>\n",
       "      <td>124424.7710</td>\n",
       "    </tr>\n",
       "    <tr>\n",
       "      <th>West</th>\n",
       "      <td>217466.5090</td>\n",
       "    </tr>\n",
       "    <tr>\n",
       "      <th rowspan=\"4\" valign=\"top\">Technology</th>\n",
       "      <th>Central</th>\n",
       "      <td>168739.2080</td>\n",
       "    </tr>\n",
       "    <tr>\n",
       "      <th>East</th>\n",
       "      <td>263158.0630</td>\n",
       "    </tr>\n",
       "    <tr>\n",
       "      <th>South</th>\n",
       "      <td>148195.2080</td>\n",
       "    </tr>\n",
       "    <tr>\n",
       "      <th>West</th>\n",
       "      <td>247368.7360</td>\n",
       "    </tr>\n",
       "  </tbody>\n",
       "</table>\n",
       "</div>"
      ],
      "text/plain": [
       "                               Sales\n",
       "Category        Region              \n",
       "Furniture       Central  159785.0630\n",
       "                East     206444.3920\n",
       "                South    116531.4800\n",
       "                West     245348.2455\n",
       "Office Supplies Central  164122.6422\n",
       "                East     199940.8110\n",
       "                South    124424.7710\n",
       "                West     217466.5090\n",
       "Technology      Central  168739.2080\n",
       "                East     263158.0630\n",
       "                South    148195.2080\n",
       "                West     247368.7360"
      ]
     },
     "execution_count": 121,
     "metadata": {},
     "output_type": "execute_result"
    }
   ],
   "source": [
    "## cehck the catogory and region wise sales\n",
    "pd.pivot_table(data=final_df,values=[\"Sales\"],index=[\"Category\",\"Region\"],aggfunc=sum)"
   ]
  },
  {
   "cell_type": "markdown",
   "id": "ca8da7b2",
   "metadata": {},
   "source": [
    "### Lambda finction in pandas: \n",
    "Anonymous function, shorthand for data transformation, data manipulation, data filtering."
   ]
  },
  {
   "cell_type": "code",
   "execution_count": 122,
   "id": "70e1e3b9",
   "metadata": {},
   "outputs": [
    {
     "data": {
      "text/html": [
       "<div>\n",
       "<style scoped>\n",
       "    .dataframe tbody tr th:only-of-type {\n",
       "        vertical-align: middle;\n",
       "    }\n",
       "\n",
       "    .dataframe tbody tr th {\n",
       "        vertical-align: top;\n",
       "    }\n",
       "\n",
       "    .dataframe thead th {\n",
       "        text-align: right;\n",
       "    }\n",
       "</style>\n",
       "<table border=\"1\" class=\"dataframe\">\n",
       "  <thead>\n",
       "    <tr style=\"text-align: right;\">\n",
       "      <th></th>\n",
       "      <th>Order Date</th>\n",
       "      <th>Ship Date</th>\n",
       "      <th>Ship Mode</th>\n",
       "      <th>Customer Name</th>\n",
       "      <th>Segment</th>\n",
       "      <th>City</th>\n",
       "      <th>State</th>\n",
       "      <th>Postal Code</th>\n",
       "      <th>Region</th>\n",
       "      <th>Product ID</th>\n",
       "      <th>Category</th>\n",
       "      <th>Sub-Category</th>\n",
       "      <th>Product Name</th>\n",
       "      <th>Sales</th>\n",
       "    </tr>\n",
       "  </thead>\n",
       "  <tbody>\n",
       "    <tr>\n",
       "      <th>0</th>\n",
       "      <td>08-11-2017</td>\n",
       "      <td>11-11-2017</td>\n",
       "      <td>Second Class</td>\n",
       "      <td>Claire Gute</td>\n",
       "      <td>Consumer</td>\n",
       "      <td>Henderson</td>\n",
       "      <td>Kentucky</td>\n",
       "      <td>42420</td>\n",
       "      <td>South</td>\n",
       "      <td>FUR-BO-10001798</td>\n",
       "      <td>Furniture</td>\n",
       "      <td>Bookcases</td>\n",
       "      <td>Bush Somerset Collection Bookcase</td>\n",
       "      <td>261.96</td>\n",
       "    </tr>\n",
       "    <tr>\n",
       "      <th>1</th>\n",
       "      <td>08-11-2017</td>\n",
       "      <td>11-11-2017</td>\n",
       "      <td>Second Class</td>\n",
       "      <td>Claire Gute</td>\n",
       "      <td>Consumer</td>\n",
       "      <td>Henderson</td>\n",
       "      <td>Kentucky</td>\n",
       "      <td>42420</td>\n",
       "      <td>South</td>\n",
       "      <td>FUR-CH-10000454</td>\n",
       "      <td>Furniture</td>\n",
       "      <td>Chairs</td>\n",
       "      <td>Hon Deluxe Fabric Upholstered Stacking Chairs,...</td>\n",
       "      <td>731.94</td>\n",
       "    </tr>\n",
       "  </tbody>\n",
       "</table>\n",
       "</div>"
      ],
      "text/plain": [
       "   Order Date   Ship Date     Ship Mode Customer Name   Segment       City  \\\n",
       "0  08-11-2017  11-11-2017  Second Class   Claire Gute  Consumer  Henderson   \n",
       "1  08-11-2017  11-11-2017  Second Class   Claire Gute  Consumer  Henderson   \n",
       "\n",
       "      State  Postal Code Region       Product ID   Category Sub-Category  \\\n",
       "0  Kentucky        42420  South  FUR-BO-10001798  Furniture    Bookcases   \n",
       "1  Kentucky        42420  South  FUR-CH-10000454  Furniture       Chairs   \n",
       "\n",
       "                                        Product Name   Sales  \n",
       "0                  Bush Somerset Collection Bookcase  261.96  \n",
       "1  Hon Deluxe Fabric Upholstered Stacking Chairs,...  731.94  "
      ]
     },
     "execution_count": 122,
     "metadata": {},
     "output_type": "execute_result"
    }
   ],
   "source": [
    "final_df.head(2)"
   ]
  },
  {
   "cell_type": "code",
   "execution_count": 189,
   "id": "be5eeab6",
   "metadata": {},
   "outputs": [
    {
     "data": {
      "text/html": [
       "<div>\n",
       "<style scoped>\n",
       "    .dataframe tbody tr th:only-of-type {\n",
       "        vertical-align: middle;\n",
       "    }\n",
       "\n",
       "    .dataframe tbody tr th {\n",
       "        vertical-align: top;\n",
       "    }\n",
       "\n",
       "    .dataframe thead th {\n",
       "        text-align: right;\n",
       "    }\n",
       "</style>\n",
       "<table border=\"1\" class=\"dataframe\">\n",
       "  <thead>\n",
       "    <tr style=\"text-align: right;\">\n",
       "      <th></th>\n",
       "      <th>Order Date</th>\n",
       "      <th>Ship Date</th>\n",
       "      <th>Ship Mode</th>\n",
       "      <th>Customer Name</th>\n",
       "      <th>Segment</th>\n",
       "      <th>City</th>\n",
       "      <th>State</th>\n",
       "      <th>Postal Code</th>\n",
       "      <th>Region</th>\n",
       "      <th>Product ID</th>\n",
       "      <th>Category</th>\n",
       "      <th>Sub-Category</th>\n",
       "      <th>Product Name</th>\n",
       "      <th>Sales</th>\n",
       "      <th>ten_percen_increage_sales</th>\n",
       "    </tr>\n",
       "  </thead>\n",
       "  <tbody>\n",
       "    <tr>\n",
       "      <th>0</th>\n",
       "      <td>08-11-2017</td>\n",
       "      <td>11-11-2017</td>\n",
       "      <td>Second Class</td>\n",
       "      <td>Claire Gute</td>\n",
       "      <td>Consumer</td>\n",
       "      <td>Henderson</td>\n",
       "      <td>Kentucky</td>\n",
       "      <td>42420</td>\n",
       "      <td>South</td>\n",
       "      <td>FUR-BO-10001798</td>\n",
       "      <td>Furniture</td>\n",
       "      <td>Bookcases</td>\n",
       "      <td>Bush Somerset Collection Bookcase</td>\n",
       "      <td>261.96</td>\n",
       "      <td>288.156</td>\n",
       "    </tr>\n",
       "    <tr>\n",
       "      <th>1</th>\n",
       "      <td>08-11-2017</td>\n",
       "      <td>11-11-2017</td>\n",
       "      <td>Second Class</td>\n",
       "      <td>Claire Gute</td>\n",
       "      <td>Consumer</td>\n",
       "      <td>Henderson</td>\n",
       "      <td>Kentucky</td>\n",
       "      <td>42420</td>\n",
       "      <td>South</td>\n",
       "      <td>FUR-CH-10000454</td>\n",
       "      <td>Furniture</td>\n",
       "      <td>Chairs</td>\n",
       "      <td>Hon Deluxe Fabric Upholstered Stacking Chairs,...</td>\n",
       "      <td>731.94</td>\n",
       "      <td>805.134</td>\n",
       "    </tr>\n",
       "  </tbody>\n",
       "</table>\n",
       "</div>"
      ],
      "text/plain": [
       "   Order Date   Ship Date     Ship Mode Customer Name   Segment       City  \\\n",
       "0  08-11-2017  11-11-2017  Second Class   Claire Gute  Consumer  Henderson   \n",
       "1  08-11-2017  11-11-2017  Second Class   Claire Gute  Consumer  Henderson   \n",
       "\n",
       "      State  Postal Code Region       Product ID   Category Sub-Category  \\\n",
       "0  Kentucky        42420  South  FUR-BO-10001798  Furniture    Bookcases   \n",
       "1  Kentucky        42420  South  FUR-CH-10000454  Furniture       Chairs   \n",
       "\n",
       "                                        Product Name   Sales  \\\n",
       "0                  Bush Somerset Collection Bookcase  261.96   \n",
       "1  Hon Deluxe Fabric Upholstered Stacking Chairs,...  731.94   \n",
       "\n",
       "   ten_percen_increage_sales  \n",
       "0                    288.156  \n",
       "1                    805.134  "
      ]
     },
     "execution_count": 189,
     "metadata": {},
     "output_type": "execute_result"
    }
   ],
   "source": [
    "## create new column for increasing 10 percent sales  \n",
    "final_df = final_df.assign(ten_percen_increage_sales = lambda x: (x[\"Sales\"] *110/100))\n",
    "final_df.head(2)"
   ]
  },
  {
   "cell_type": "code",
   "execution_count": 149,
   "id": "f8b07b97",
   "metadata": {},
   "outputs": [],
   "source": [
    "final_df.drop([\"Percentage\",\"ten_percen_increage\"],axis=1,inplace=True)"
   ]
  },
  {
   "cell_type": "code",
   "execution_count": 190,
   "id": "a2a42dc6",
   "metadata": {},
   "outputs": [
    {
     "data": {
      "text/html": [
       "<div>\n",
       "<style scoped>\n",
       "    .dataframe tbody tr th:only-of-type {\n",
       "        vertical-align: middle;\n",
       "    }\n",
       "\n",
       "    .dataframe tbody tr th {\n",
       "        vertical-align: top;\n",
       "    }\n",
       "\n",
       "    .dataframe thead th {\n",
       "        text-align: right;\n",
       "    }\n",
       "</style>\n",
       "<table border=\"1\" class=\"dataframe\">\n",
       "  <thead>\n",
       "    <tr style=\"text-align: right;\">\n",
       "      <th></th>\n",
       "      <th>Order Date</th>\n",
       "      <th>Ship Date</th>\n",
       "      <th>Ship Mode</th>\n",
       "      <th>Customer Name</th>\n",
       "      <th>Segment</th>\n",
       "      <th>City</th>\n",
       "      <th>State</th>\n",
       "      <th>Postal Code</th>\n",
       "      <th>Region</th>\n",
       "      <th>Product ID</th>\n",
       "      <th>Category</th>\n",
       "      <th>Sub-Category</th>\n",
       "      <th>Product Name</th>\n",
       "      <th>Sales</th>\n",
       "      <th>ten_percen_increage_sales</th>\n",
       "      <th>Rate</th>\n",
       "    </tr>\n",
       "  </thead>\n",
       "  <tbody>\n",
       "    <tr>\n",
       "      <th>0</th>\n",
       "      <td>08-11-2017</td>\n",
       "      <td>11-11-2017</td>\n",
       "      <td>Second Class</td>\n",
       "      <td>Claire Gute</td>\n",
       "      <td>Consumer</td>\n",
       "      <td>Henderson</td>\n",
       "      <td>Kentucky</td>\n",
       "      <td>42420</td>\n",
       "      <td>South</td>\n",
       "      <td>FUR-BO-10001798</td>\n",
       "      <td>Furniture</td>\n",
       "      <td>Bookcases</td>\n",
       "      <td>Bush Somerset Collection Bookcase</td>\n",
       "      <td>261.96</td>\n",
       "      <td>288.156</td>\n",
       "      <td>90.909091</td>\n",
       "    </tr>\n",
       "    <tr>\n",
       "      <th>1</th>\n",
       "      <td>08-11-2017</td>\n",
       "      <td>11-11-2017</td>\n",
       "      <td>Second Class</td>\n",
       "      <td>Claire Gute</td>\n",
       "      <td>Consumer</td>\n",
       "      <td>Henderson</td>\n",
       "      <td>Kentucky</td>\n",
       "      <td>42420</td>\n",
       "      <td>South</td>\n",
       "      <td>FUR-CH-10000454</td>\n",
       "      <td>Furniture</td>\n",
       "      <td>Chairs</td>\n",
       "      <td>Hon Deluxe Fabric Upholstered Stacking Chairs,...</td>\n",
       "      <td>731.94</td>\n",
       "      <td>805.134</td>\n",
       "      <td>90.909091</td>\n",
       "    </tr>\n",
       "  </tbody>\n",
       "</table>\n",
       "</div>"
      ],
      "text/plain": [
       "   Order Date   Ship Date     Ship Mode Customer Name   Segment       City  \\\n",
       "0  08-11-2017  11-11-2017  Second Class   Claire Gute  Consumer  Henderson   \n",
       "1  08-11-2017  11-11-2017  Second Class   Claire Gute  Consumer  Henderson   \n",
       "\n",
       "      State  Postal Code Region       Product ID   Category Sub-Category  \\\n",
       "0  Kentucky        42420  South  FUR-BO-10001798  Furniture    Bookcases   \n",
       "1  Kentucky        42420  South  FUR-CH-10000454  Furniture       Chairs   \n",
       "\n",
       "                                        Product Name   Sales  \\\n",
       "0                  Bush Somerset Collection Bookcase  261.96   \n",
       "1  Hon Deluxe Fabric Upholstered Stacking Chairs,...  731.94   \n",
       "\n",
       "   ten_percen_increage_sales       Rate  \n",
       "0                    288.156  90.909091  \n",
       "1                    805.134  90.909091  "
      ]
     },
     "execution_count": 190,
     "metadata": {},
     "output_type": "execute_result"
    }
   ],
   "source": [
    "## create new columns and fint rate of sales columns and percentage columns\n",
    "final_df.assign(Rate= lambda x: (x[\"Sales\"]/ x[\"ten_percen_increage_sales\"]*100)).head(2)"
   ]
  },
  {
   "cell_type": "markdown",
   "id": "548274cd",
   "metadata": {},
   "source": [
    "### please chek this link is pandas function link.\n",
    "https://pandas.pydata.org/docs/reference/general_functions.html"
   ]
  },
  {
   "cell_type": "code",
   "execution_count": null,
   "id": "d963d169",
   "metadata": {},
   "outputs": [],
   "source": []
  }
 ],
 "metadata": {
  "kernelspec": {
   "display_name": "Python 3 (ipykernel)",
   "language": "python",
   "name": "python3"
  },
  "language_info": {
   "codemirror_mode": {
    "name": "ipython",
    "version": 3
   },
   "file_extension": ".py",
   "mimetype": "text/x-python",
   "name": "python",
   "nbconvert_exporter": "python",
   "pygments_lexer": "ipython3",
   "version": "3.9.12"
  }
 },
 "nbformat": 4,
 "nbformat_minor": 5
}
