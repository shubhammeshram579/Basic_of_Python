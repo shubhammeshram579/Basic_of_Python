{
 "cells": [
  {
   "cell_type": "markdown",
   "id": "8bf713db",
   "metadata": {},
   "source": [
    "## Variables in python:\n",
    "Variables are used to store values in Python.You can declare a variable using an assignment statement,such as x = 5, where x is the variable name and 5 is the value.\n"
   ]
  },
  {
   "cell_type": "code",
   "execution_count": null,
   "id": "e2140017",
   "metadata": {},
   "outputs": [],
   "source": [
    "# for examples\n",
    "x = 5\n",
    "y = 3.14\n",
    "name = \"Alice\"\n",
    "is_true = True"
   ]
  },
  {
   "cell_type": "markdown",
   "id": "399e9b14",
   "metadata": {},
   "source": [
    "## Data Types in python:\n",
    "Python has several built-in data types, including integers (int), floating-point numbers (float), strings (str), and booleans (bool). For example, 5 is an integer, 3.14 is a float, \"Hello\" is a string, and True or False are booleans."
   ]
  },
  {
   "cell_type": "code",
   "execution_count": null,
   "id": "44a152a7",
   "metadata": {},
   "outputs": [],
   "source": [
    "# Integer\n",
    "num1 = 10\n",
    "# Float\n",
    "num2 = 3.5\n",
    "# String\n",
    "greeting = \"Hello\"\n",
    "# Boolean\n",
    "is_valid = False"
   ]
  },
  {
   "cell_type": "markdown",
   "id": "9f72503d",
   "metadata": {},
   "source": [
    "## Operators in python:\n",
    "Python supports various operators for performing operations on values, such as arithmetic operators (+, -, *, /), comparison operators (==, !=, <, >, <=, >=), and logical operators (and, or, not). For example, x + y adds the values of x and y, x == y checks if x is equal to y, and not x negates the value of x."
   ]
  },
  {
   "cell_type": "code",
   "execution_count": null,
   "id": "a64ccd91",
   "metadata": {},
   "outputs": [],
   "source": [
    "# Arithmetic operators\n",
    "a = 10\n",
    "b = 5\n",
    "sum = a + b\n",
    "difference = a - b\n",
    "product = a * b\n",
    "quotient = a / b\n",
    "\n",
    "# Comparison operators\n",
    "is_equal = a == b\n",
    "is_not_equal = a != b\n",
    "is_greater_than = a > b\n",
    "is_less_than = a < b\n",
    "\n",
    "# Logical operators\n",
    "is_true1 = True\n",
    "is_true2 = False\n",
    "result1 = is_true1 and is_true2\n",
    "result2 = is_true1 or is_true2\n",
    "result3 = not is_true1"
   ]
  },
  {
   "cell_type": "markdown",
   "id": "f05b77ea",
   "metadata": {},
   "source": [
    "### Control Flow in python: \n",
    "Python has conditional statements (if, elif, else) and loops (for, while) for controlling the flow of execution in a program. Conditional statements are used to make decisions based on whether a condition is true or false, and loops are used to repeat a block of code multiple times."
   ]
  },
  {
   "cell_type": "code",
   "execution_count": null,
   "id": "a6f2c3df",
   "metadata": {},
   "outputs": [],
   "source": [
    "# If statement\n",
    "age = 18\n",
    "if age >= 18:\n",
    "    print(\"You are an adult.\")\n",
    "elif age < 18:\n",
    "    print(\"You are a minor.\")\n",
    "else:\n",
    "    print(\"Invalid age.\")\n",
    "\n",
    "# While loop\n",
    "count = 0\n",
    "while count < 5:\n",
    "    print(\"Count:\", count)\n",
    "    count += 1\n",
    "\n",
    "# For loop\n",
    "for i in range(1, 6):\n",
    "    print(\"Number:\", i)"
   ]
  },
  {
   "cell_type": "markdown",
   "id": "4e78c916",
   "metadata": {},
   "source": [
    "### Functions in python: \n",
    "Functions are reusable blocks of code that can be defined with a name and a set of input parameters. Functions can return a value or perform a specific action when called. You can define your own functions using the def keyword."
   ]
  },
  {
   "cell_type": "code",
   "execution_count": null,
   "id": "af472f8b",
   "metadata": {},
   "outputs": [],
   "source": [
    "# Function definition\n",
    "def greet(name):\n",
    "    print(\"Hello,\", name)\n",
    "\n",
    "# Function call\n",
    "greet(\"Alice\")"
   ]
  },
  {
   "cell_type": "markdown",
   "id": "19215434",
   "metadata": {},
   "source": [
    "## Lists in python: \n",
    "Lists are used to store collections of items in Python. You can create a list using square brackets ([]) and separate the items with commas. Lists are mutable, which means you can modify their contents."
   ]
  },
  {
   "cell_type": "code",
   "execution_count": null,
   "id": "d2cdecaf",
   "metadata": {},
   "outputs": [],
   "source": [
    "# List creation\n",
    "fruits = [\"apple\", \"banana\", \"cherry\"]\n",
    "\n",
    "# List access and modification\n",
    "print(fruits[0])   # Output: \"apple\"\n",
    "fruits[1] = \"orange\"\n",
    "print(fruits)      # Output: [\"apple\", \"orange\", \"cherry\"]\n",
    "\n",
    "# List iteration\n",
    "for fruit in fruits:\n",
    "    print(fruit)"
   ]
  },
  {
   "cell_type": "markdown",
   "id": "2932e3ab",
   "metadata": {},
   "source": [
    "### Dictionaries in python:\n",
    "Dictionaries are used to store key-value pairs in Python. They are similar to lists, but instead of using indices to access items, you use keys. Dictionaries are enclosed in curly braces ({}) and have keys and values separated by colons."
   ]
  },
  {
   "cell_type": "code",
   "execution_count": null,
   "id": "148c0563",
   "metadata": {},
   "outputs": [],
   "source": [
    "# Dictionary creation\n",
    "person = {\"name\": \"Alice\", \"age\": 25, \"gender\": \"female\"}\n",
    "\n",
    "# Dictionary access and modification\n",
    "print(person[\"name\"])   # Output: \"Alice\"\n",
    "person[\"age\"] = 26\n",
    "print(person)           # Output: {\"name\": \"Alice\", \"age\": 26, \"gender\": \"female\"}\n",
    "\n",
    "# Dictionary iteration\n",
    "for key, value in person.items():\n",
    "    print(key + \":\", value)"
   ]
  },
  {
   "cell_type": "markdown",
   "id": "2f7e4a39",
   "metadata": {},
   "source": [
    "### Classes and Objects in pyhton:\n",
    "Python is an object-oriented programming language, which means you can define your own classes and create objects from them. Classes are blueprints for objects, and objects are instances of classes. Classes can have attributes (variables) and methods (functions)."
   ]
  },
  {
   "cell_type": "code",
   "execution_count": null,
   "id": "4c4dd811",
   "metadata": {},
   "outputs": [],
   "source": [
    "# Class definition\n",
    "class Dog:\n",
    "    def __init__(self, name, age):\n",
    "        self.name = name\n",
    "        self.age = age\n",
    "\n",
    "    def bark(self):\n",
    "        print(\"Woof!\")\n",
    "\n",
    "# Object creation\n",
    "dog1 = Dog(\"Buddy\", 3)\n",
    "dog2 = Dog(\"Max\", 5)\n",
    "\n",
    "# Object attribute access\n",
    "print(dog1.name)  # Output: \"Buddy\"\n",
    "\n",
    "# Object method call\n",
    "dog2.bark()       # Output: \"Woof!\""
   ]
  }
 ],
 "metadata": {
  "kernelspec": {
   "display_name": "Python 3 (ipykernel)",
   "language": "python",
   "name": "python3"
  },
  "language_info": {
   "codemirror_mode": {
    "name": "ipython",
    "version": 3
   },
   "file_extension": ".py",
   "mimetype": "text/x-python",
   "name": "python",
   "nbconvert_exporter": "python",
   "pygments_lexer": "ipython3",
   "version": "3.9.12"
  }
 },
 "nbformat": 4,
 "nbformat_minor": 5
}
